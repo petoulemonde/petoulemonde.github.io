{
  "cells": [
    {
      "cell_type": "markdown",
      "source": [
        "# Predict US stocks closing movements\n",
        "\n",
        "![](images/us.jpg)\n",
        "\n",
        "**Description**: \n",
        "This dataset is extracted from the following Kaggle competition : https://www.kaggle.com/competitions/optiver-trading-at-the-close/overview. \n",
        "\n",
        "Kaggle competition brief : \n",
        "This dataset contains historic data for the daily ten minute closing auction on the NASDAQ stock exchange. Your challenge is to predict the future price movements of stocks relative to the price future price movement of a synthetic index composed of NASDAQ-listed stocks.\n",
        "\n",
        "This is a forecasting competition using the time series API. The private leaderboard will be determined using real market data gathered after the submission period closes.\n",
        "\n",
        "The objective of this project is to create a proof of concept of the use of mlflow without autlog with optuna, and best model extraction from mlflow.\n",
        "\n",
        "[![](https://img.shields.io/badge/Python-white?logo=Python)](#) [![](https://img.shields.io/badge/sklearn-white?logo=scikit-learn)](#) [![](https://img.shields.io/badge/Google-white?logo=mlflow)](#) [![](https://img.shields.io/badge/Optuna-white?logo=data:image/png;base64,/9j/4AAQSkZJRgABAQAAAQABAAD/2wBDAAgGBgcGBQgHBwcJCQgKDBUODAsLDBkSEw8VHhsgHx4bHR0hJTApISMtJB0dKjkqLTEzNjY2ICg7Pzo0PjA1NjP/2wBDAQkJCQwLDBgODhgzIh0iMzMzMzMzMzMzMzMzMzMzMzMzMzMzMzMzMzMzMzMzMzMzMzMzMzMzMzMzMzMzMzMzMzP/wAARCAAKAAoDASIAAhEBAxEB/8QAFgABAQEAAAAAAAAAAAAAAAAABgME/8QAIxAAAgECBQUBAAAAAAAAAAAAAQIDABEEBhIhQQUTIjFScf/EABQBAQAAAAAAAAAAAAAAAAAAAAT/xAAZEQEAAwEBAAAAAAAAAAAAAAABAAIDESH/2gAMAwEAAhEDEQA/AF4xEnU0lx2NOqVm8Q1/Df0Pm1aoetZl7KdqWVo9I0sYQxI4NyN/2q5ghiGcoYhGgjlZDImkWcn2SOafgBQFUAKNgBxTNLlQeQWWa2fZ/9k=)](#) [![](https://img.shields.io/badge/Dagshub-white?logo=data:image/png;base64,iVBORw0KGgoAAAANSUhEUgAAAAoAAAAKCAMAAAC67D+PAAAAIGNIUk0AAHomAACAhAAA+gAAAIDoAAB1MAAA6mAAADqYAAAXcJy6UTwAAADeUExURfT19fj5+f///6KWlpmHiOTk5P7+/svFxcjBwbSen5VLToFjZLi3t9vc2+Pj4ubm5qGfn4FWV8CrrNvR0ZpVWHRAQmRfX3Nzcs3Lw4yMillMTIVPUdzS0vn5+a6RkmZRUmRkZG9vb9jWzYeGhF1aWol6e/f29sDAwGRjY1FRUWlpZ4WEgU9PT5WVlb+/v2NjY39+e768tKWjnLa0rIWEgKenp9nZ2ZGRjfPw5Pv466+upuXi1vbz5tva1vv7/Nvb2OXj29rZ0tHPx9fVz+Ph2uXk4ff39/Ly8fj4+P39/nQBThAAAAABYktHRAJmC3xkAAAAB3RJTUUH5wsdFQI7i+bV9AAAAAFvck5UAc+id5oAAABrSURBVAjXY2BgZIICBmYWVhDNxs7BwMnFzcPLxy8gKMQgLCIqJi4hKSUtwyArJ6+gqKSsoqrGwKSuoamlpK2jy8TApKdvYGhkbGIKZJqZW1haWdvYsjEw2dk7ODo5u7gCRZmY3Nzc3Tw8mQCpNAtuwFWNdgAAACV0RVh0ZGF0ZTpjcmVhdGUAMjAyMy0xMS0yOVQyMTowMjo1MyswMDowMM8jN1kAAAAldEVYdGRhdGU6bW9kaWZ5ADIwMjMtMTEtMjlUMjE6MDI6NTMrMDA6MDC+fo/lAAAAKHRFWHRkYXRlOnRpbWVzdGFtcAAyMDIzLTExLTI5VDIxOjAyOjU5KzAwOjAwTRvxdAAAAABJRU5ErkJggg==)](#)\n",
        "\n",
        "\n",
        "Skills developed: Model optimization "
      ],
      "metadata": {
        "_uuid": "8f2839f25d086af736a60e9eeb907d3b93b6e0e5",
        "_cell_guid": "b1076dfc-b9ad-4769-8c92-a6c4dae69d19",
        "execution": {
          "iopub.status.busy": "2023-11-24T20:04:21.681408Z",
          "iopub.execute_input": "2023-11-24T20:04:21.682423Z",
          "iopub.status.idle": "2023-11-24T20:04:21.690523Z",
          "shell.execute_reply.started": "2023-11-24T20:04:21.682379Z",
          "shell.execute_reply": "2023-11-24T20:04:21.688791Z"
        }
      },
      "id": "61a2bdba"
    },
    {
      "cell_type": "markdown",
      "source": [
        "# 0. Imports"
      ],
      "metadata": {},
      "id": "624a3dd6"
    },
    {
      "cell_type": "code",
      "source": [
        "!pip install pandas\n",
        "!pip install mlflow\n",
        "!pip install sklearn\n",
        "!pip install optuna\n",
        "!pip install dagshub\n",
        "!pip install icecream\n",
        "!pip install pickle\n",
        "!pip install plotly\n",
        "!pip install session_info"
      ],
      "outputs": [
        {
          "output_type": "stream",
          "name": "stdout",
          "text": [
            "Requirement already satisfied: pandas in /opt/conda/lib/python3.10/site-packages (2.0.3)\n",
            "Requirement already satisfied: python-dateutil>=2.8.2 in /opt/conda/lib/python3.10/site-packages (from pandas) (2.8.2)\n",
            "Requirement already satisfied: pytz>=2020.1 in /opt/conda/lib/python3.10/site-packages (from pandas) (2023.3)\n",
            "Requirement already satisfied: tzdata>=2022.1 in /opt/conda/lib/python3.10/site-packages (from pandas) (2023.3)\n",
            "Requirement already satisfied: numpy>=1.21.0 in /opt/conda/lib/python3.10/site-packages (from pandas) (1.24.3)\n",
            "Requirement already satisfied: six>=1.5 in /opt/conda/lib/python3.10/site-packages (from python-dateutil>=2.8.2->pandas) (1.16.0)\n",
            "Requirement already satisfied: mlflow in /opt/conda/lib/python3.10/site-packages (2.8.1)\n",
            "Requirement already satisfied: click<9,>=7.0 in /opt/conda/lib/python3.10/site-packages (from mlflow) (8.1.7)\n",
            "Requirement already satisfied: cloudpickle<3 in /opt/conda/lib/python3.10/site-packages (from mlflow) (2.2.1)\n",
            "Requirement already satisfied: databricks-cli<1,>=0.8.7 in /opt/conda/lib/python3.10/site-packages (from mlflow) (0.18.0)\n",
            "Requirement already satisfied: entrypoints<1 in /opt/conda/lib/python3.10/site-packages (from mlflow) (0.4)\n",
            "Requirement already satisfied: gitpython<4,>=2.1.0 in /opt/conda/lib/python3.10/site-packages (from mlflow) (3.1.32)\n",
            "Requirement already satisfied: pyyaml<7,>=5.1 in /opt/conda/lib/python3.10/site-packages (from mlflow) (6.0.1)\n",
            "Requirement already satisfied: protobuf<5,>=3.12.0 in /opt/conda/lib/python3.10/site-packages (from mlflow) (3.20.3)\n",
            "Requirement already satisfied: pytz<2024 in /opt/conda/lib/python3.10/site-packages (from mlflow) (2023.3)\n",
            "Requirement already satisfied: requests<3,>=2.17.3 in /opt/conda/lib/python3.10/site-packages (from mlflow) (2.31.0)\n",
            "Requirement already satisfied: packaging<24 in /opt/conda/lib/python3.10/site-packages (from mlflow) (21.3)\n",
            "Requirement already satisfied: importlib-metadata!=4.7.0,<7,>=3.7.0 in /opt/conda/lib/python3.10/site-packages (from mlflow) (6.8.0)\n",
            "Requirement already satisfied: sqlparse<1,>=0.4.0 in /opt/conda/lib/python3.10/site-packages (from mlflow) (0.4.4)\n",
            "Requirement already satisfied: alembic!=1.10.0,<2 in /opt/conda/lib/python3.10/site-packages (from mlflow) (1.12.1)\n",
            "Requirement already satisfied: docker<7,>=4.0.0 in /opt/conda/lib/python3.10/site-packages (from mlflow) (6.1.3)\n",
            "Requirement already satisfied: Flask<4 in /opt/conda/lib/python3.10/site-packages (from mlflow) (3.0.0)\n",
            "Requirement already satisfied: numpy<2 in /opt/conda/lib/python3.10/site-packages (from mlflow) (1.24.3)\n",
            "Requirement already satisfied: scipy<2 in /opt/conda/lib/python3.10/site-packages (from mlflow) (1.11.3)\n",
            "Requirement already satisfied: pandas<3 in /opt/conda/lib/python3.10/site-packages (from mlflow) (2.0.3)\n",
            "Requirement already satisfied: querystring-parser<2 in /opt/conda/lib/python3.10/site-packages (from mlflow) (1.2.4)\n",
            "Requirement already satisfied: sqlalchemy<3,>=1.4.0 in /opt/conda/lib/python3.10/site-packages (from mlflow) (2.0.20)\n",
            "Requirement already satisfied: scikit-learn<2 in /opt/conda/lib/python3.10/site-packages (from mlflow) (1.2.2)\n",
            "Requirement already satisfied: pyarrow<15,>=4.0.0 in /opt/conda/lib/python3.10/site-packages (from mlflow) (14.0.1)\n",
            "Requirement already satisfied: markdown<4,>=3.3 in /opt/conda/lib/python3.10/site-packages (from mlflow) (3.4.4)\n",
            "Requirement already satisfied: matplotlib<4 in /opt/conda/lib/python3.10/site-packages (from mlflow) (3.7.3)\n",
            "Requirement already satisfied: gunicorn<22 in /opt/conda/lib/python3.10/site-packages (from mlflow) (21.2.0)\n",
            "Requirement already satisfied: Jinja2<4,>=2.11 in /opt/conda/lib/python3.10/site-packages (from mlflow) (3.1.2)\n",
            "Requirement already satisfied: Mako in /opt/conda/lib/python3.10/site-packages (from alembic!=1.10.0,<2->mlflow) (1.3.0)\n",
            "Requirement already satisfied: typing-extensions>=4 in /opt/conda/lib/python3.10/site-packages (from alembic!=1.10.0,<2->mlflow) (4.5.0)\n",
            "Requirement already satisfied: pyjwt>=1.7.0 in /opt/conda/lib/python3.10/site-packages (from databricks-cli<1,>=0.8.7->mlflow) (2.8.0)\n",
            "Requirement already satisfied: oauthlib>=3.1.0 in /opt/conda/lib/python3.10/site-packages (from databricks-cli<1,>=0.8.7->mlflow) (3.2.2)\n",
            "Requirement already satisfied: tabulate>=0.7.7 in /opt/conda/lib/python3.10/site-packages (from databricks-cli<1,>=0.8.7->mlflow) (0.9.0)\n",
            "Requirement already satisfied: six>=1.10.0 in /opt/conda/lib/python3.10/site-packages (from databricks-cli<1,>=0.8.7->mlflow) (1.16.0)\n",
            "Requirement already satisfied: urllib3<3,>=1.26.7 in /opt/conda/lib/python3.10/site-packages (from databricks-cli<1,>=0.8.7->mlflow) (1.26.15)\n",
            "Requirement already satisfied: websocket-client>=0.32.0 in /opt/conda/lib/python3.10/site-packages (from docker<7,>=4.0.0->mlflow) (1.6.2)\n",
            "Requirement already satisfied: Werkzeug>=3.0.0 in /opt/conda/lib/python3.10/site-packages (from Flask<4->mlflow) (3.0.1)\n",
            "Requirement already satisfied: itsdangerous>=2.1.2 in /opt/conda/lib/python3.10/site-packages (from Flask<4->mlflow) (2.1.2)\n",
            "Requirement already satisfied: blinker>=1.6.2 in /opt/conda/lib/python3.10/site-packages (from Flask<4->mlflow) (1.7.0)\n",
            "Requirement already satisfied: gitdb<5,>=4.0.1 in /opt/conda/lib/python3.10/site-packages (from gitpython<4,>=2.1.0->mlflow) (4.0.10)\n",
            "Requirement already satisfied: zipp>=0.5 in /opt/conda/lib/python3.10/site-packages (from importlib-metadata!=4.7.0,<7,>=3.7.0->mlflow) (3.16.2)\n",
            "Requirement already satisfied: MarkupSafe>=2.0 in /opt/conda/lib/python3.10/site-packages (from Jinja2<4,>=2.11->mlflow) (2.1.3)\n",
            "Requirement already satisfied: contourpy>=1.0.1 in /opt/conda/lib/python3.10/site-packages (from matplotlib<4->mlflow) (1.1.0)\n",
            "Requirement already satisfied: cycler>=0.10 in /opt/conda/lib/python3.10/site-packages (from matplotlib<4->mlflow) (0.11.0)\n",
            "Requirement already satisfied: fonttools>=4.22.0 in /opt/conda/lib/python3.10/site-packages (from matplotlib<4->mlflow) (4.42.1)\n",
            "Requirement already satisfied: kiwisolver>=1.0.1 in /opt/conda/lib/python3.10/site-packages (from matplotlib<4->mlflow) (1.4.4)\n",
            "Requirement already satisfied: pillow>=6.2.0 in /opt/conda/lib/python3.10/site-packages (from matplotlib<4->mlflow) (10.1.0)\n",
            "Requirement already satisfied: pyparsing>=2.3.1 in /opt/conda/lib/python3.10/site-packages (from matplotlib<4->mlflow) (3.0.9)\n",
            "Requirement already satisfied: python-dateutil>=2.7 in /opt/conda/lib/python3.10/site-packages (from matplotlib<4->mlflow) (2.8.2)\n",
            "Requirement already satisfied: tzdata>=2022.1 in /opt/conda/lib/python3.10/site-packages (from pandas<3->mlflow) (2023.3)\n",
            "Requirement already satisfied: charset-normalizer<4,>=2 in /opt/conda/lib/python3.10/site-packages (from requests<3,>=2.17.3->mlflow) (3.2.0)\n",
            "Requirement already satisfied: idna<4,>=2.5 in /opt/conda/lib/python3.10/site-packages (from requests<3,>=2.17.3->mlflow) (3.4)\n",
            "Requirement already satisfied: certifi>=2017.4.17 in /opt/conda/lib/python3.10/site-packages (from requests<3,>=2.17.3->mlflow) (2023.7.22)\n",
            "Requirement already satisfied: joblib>=1.1.1 in /opt/conda/lib/python3.10/site-packages (from scikit-learn<2->mlflow) (1.3.2)\n",
            "Requirement already satisfied: threadpoolctl>=2.0.0 in /opt/conda/lib/python3.10/site-packages (from scikit-learn<2->mlflow) (3.2.0)\n",
            "Requirement already satisfied: greenlet!=0.4.17 in /opt/conda/lib/python3.10/site-packages (from sqlalchemy<3,>=1.4.0->mlflow) (2.0.2)\n",
            "Requirement already satisfied: smmap<6,>=3.0.1 in /opt/conda/lib/python3.10/site-packages (from gitdb<5,>=4.0.1->gitpython<4,>=2.1.0->mlflow) (5.0.0)\n",
            "Requirement already satisfied: sklearn in /opt/conda/lib/python3.10/site-packages (0.0.post11)\n",
            "Requirement already satisfied: optuna in /opt/conda/lib/python3.10/site-packages (3.4.0)\n",
            "Requirement already satisfied: alembic>=1.5.0 in /opt/conda/lib/python3.10/site-packages (from optuna) (1.12.1)\n",
            "Requirement already satisfied: colorlog in /opt/conda/lib/python3.10/site-packages (from optuna) (6.7.0)\n",
            "Requirement already satisfied: numpy in /opt/conda/lib/python3.10/site-packages (from optuna) (1.24.3)\n",
            "Requirement already satisfied: packaging>=20.0 in /opt/conda/lib/python3.10/site-packages (from optuna) (21.3)\n",
            "Requirement already satisfied: sqlalchemy>=1.3.0 in /opt/conda/lib/python3.10/site-packages (from optuna) (2.0.20)\n",
            "Requirement already satisfied: tqdm in /opt/conda/lib/python3.10/site-packages (from optuna) (4.66.1)\n",
            "Requirement already satisfied: PyYAML in /opt/conda/lib/python3.10/site-packages (from optuna) (6.0.1)\n",
            "Requirement already satisfied: Mako in /opt/conda/lib/python3.10/site-packages (from alembic>=1.5.0->optuna) (1.3.0)\n",
            "Requirement already satisfied: typing-extensions>=4 in /opt/conda/lib/python3.10/site-packages (from alembic>=1.5.0->optuna) (4.5.0)\n",
            "Requirement already satisfied: pyparsing!=3.0.5,>=2.0.2 in /opt/conda/lib/python3.10/site-packages (from packaging>=20.0->optuna) (3.0.9)\n",
            "Requirement already satisfied: greenlet!=0.4.17 in /opt/conda/lib/python3.10/site-packages (from sqlalchemy>=1.3.0->optuna) (2.0.2)\n",
            "Requirement already satisfied: MarkupSafe>=0.9.2 in /opt/conda/lib/python3.10/site-packages (from Mako->alembic>=1.5.0->optuna) (2.1.3)\n",
            "Requirement already satisfied: dagshub in /opt/conda/lib/python3.10/site-packages (0.3.9)\n",
            "Requirement already satisfied: PyYAML>=5 in /opt/conda/lib/python3.10/site-packages (from dagshub) (6.0.1)\n",
            "Requirement already satisfied: fusepy>=3 in /opt/conda/lib/python3.10/site-packages (from dagshub) (3.0.1)\n",
            "Requirement already satisfied: appdirs>=1.4.4 in /opt/conda/lib/python3.10/site-packages (from dagshub) (1.4.4)\n",
            "Requirement already satisfied: click>=8.0.4 in /opt/conda/lib/python3.10/site-packages (from dagshub) (8.1.7)\n",
            "Requirement already satisfied: httpx~=0.23.0 in /opt/conda/lib/python3.10/site-packages (from dagshub) (0.23.3)\n",
            "Requirement already satisfied: GitPython>=3.1.29 in /opt/conda/lib/python3.10/site-packages (from dagshub) (3.1.32)\n",
            "Requirement already satisfied: rich~=13.1.0 in /opt/conda/lib/python3.10/site-packages (from dagshub) (13.1.0)\n",
            "Requirement already satisfied: dacite~=1.6.0 in /opt/conda/lib/python3.10/site-packages (from dagshub) (1.6.0)\n",
            "Requirement already satisfied: tenacity~=8.2.2 in /opt/conda/lib/python3.10/site-packages (from dagshub) (8.2.3)\n",
            "Requirement already satisfied: gql[requests] in /opt/conda/lib/python3.10/site-packages (from dagshub) (3.4.1)\n",
            "Requirement already satisfied: dataclasses-json in /opt/conda/lib/python3.10/site-packages (from dagshub) (0.6.2)\n",
            "Requirement already satisfied: pandas in /opt/conda/lib/python3.10/site-packages (from dagshub) (2.0.3)\n",
            "Requirement already satisfied: treelib~=1.6.4 in /opt/conda/lib/python3.10/site-packages (from dagshub) (1.6.4)\n",
            "Requirement already satisfied: pathvalidate~=3.0.0 in /opt/conda/lib/python3.10/site-packages (from dagshub) (3.0.0)\n",
            "Requirement already satisfied: python-dateutil in /opt/conda/lib/python3.10/site-packages (from dagshub) (2.8.2)\n",
            "Requirement already satisfied: gitdb<5,>=4.0.1 in /opt/conda/lib/python3.10/site-packages (from GitPython>=3.1.29->dagshub) (4.0.10)\n",
            "Requirement already satisfied: certifi in /opt/conda/lib/python3.10/site-packages (from httpx~=0.23.0->dagshub) (2023.7.22)\n",
            "Requirement already satisfied: httpcore<0.17.0,>=0.15.0 in /opt/conda/lib/python3.10/site-packages (from httpx~=0.23.0->dagshub) (0.16.3)\n",
            "Requirement already satisfied: rfc3986[idna2008]<2,>=1.3 in /opt/conda/lib/python3.10/site-packages (from httpx~=0.23.0->dagshub) (1.5.0)\n",
            "Requirement already satisfied: sniffio in /opt/conda/lib/python3.10/site-packages (from httpx~=0.23.0->dagshub) (1.3.0)\n",
            "Requirement already satisfied: commonmark<0.10.0,>=0.9.0 in /opt/conda/lib/python3.10/site-packages (from rich~=13.1.0->dagshub) (0.9.1)\n",
            "Requirement already satisfied: pygments<3.0.0,>=2.6.0 in /opt/conda/lib/python3.10/site-packages (from rich~=13.1.0->dagshub) (2.16.1)\n",
            "Requirement already satisfied: six in /opt/conda/lib/python3.10/site-packages (from treelib~=1.6.4->dagshub) (1.16.0)\n",
            "Requirement already satisfied: marshmallow<4.0.0,>=3.18.0 in /opt/conda/lib/python3.10/site-packages (from dataclasses-json->dagshub) (3.20.1)\n",
            "Requirement already satisfied: typing-inspect<1,>=0.4.0 in /opt/conda/lib/python3.10/site-packages (from dataclasses-json->dagshub) (0.9.0)\n",
            "Requirement already satisfied: graphql-core<3.3,>=3.2 in /opt/conda/lib/python3.10/site-packages (from gql[requests]->dagshub) (3.2.3)\n",
            "Requirement already satisfied: yarl<2.0,>=1.6 in /opt/conda/lib/python3.10/site-packages (from gql[requests]->dagshub) (1.9.2)\n",
            "Requirement already satisfied: backoff<3.0,>=1.11.1 in /opt/conda/lib/python3.10/site-packages (from gql[requests]->dagshub) (2.2.1)\n",
            "Requirement already satisfied: requests<3,>=2.26 in /opt/conda/lib/python3.10/site-packages (from gql[requests]->dagshub) (2.31.0)\n",
            "Requirement already satisfied: requests-toolbelt<1,>=0.9.1 in /opt/conda/lib/python3.10/site-packages (from gql[requests]->dagshub) (0.10.1)\n",
            "Requirement already satisfied: urllib3<2,>=1.26 in /opt/conda/lib/python3.10/site-packages (from gql[requests]->dagshub) (1.26.15)\n",
            "Requirement already satisfied: pytz>=2020.1 in /opt/conda/lib/python3.10/site-packages (from pandas->dagshub) (2023.3)\n",
            "Requirement already satisfied: tzdata>=2022.1 in /opt/conda/lib/python3.10/site-packages (from pandas->dagshub) (2023.3)\n",
            "Requirement already satisfied: numpy>=1.21.0 in /opt/conda/lib/python3.10/site-packages (from pandas->dagshub) (1.24.3)\n",
            "Requirement already satisfied: smmap<6,>=3.0.1 in /opt/conda/lib/python3.10/site-packages (from gitdb<5,>=4.0.1->GitPython>=3.1.29->dagshub) (5.0.0)\n",
            "Requirement already satisfied: h11<0.15,>=0.13 in /opt/conda/lib/python3.10/site-packages (from httpcore<0.17.0,>=0.15.0->httpx~=0.23.0->dagshub) (0.14.0)\n",
            "Requirement already satisfied: anyio<5.0,>=3.0 in /opt/conda/lib/python3.10/site-packages (from httpcore<0.17.0,>=0.15.0->httpx~=0.23.0->dagshub) (3.7.1)\n",
            "Requirement already satisfied: packaging>=17.0 in /opt/conda/lib/python3.10/site-packages (from marshmallow<4.0.0,>=3.18.0->dataclasses-json->dagshub) (21.3)\n",
            "Requirement already satisfied: charset-normalizer<4,>=2 in /opt/conda/lib/python3.10/site-packages (from requests<3,>=2.26->gql[requests]->dagshub) (3.2.0)\n",
            "Requirement already satisfied: idna<4,>=2.5 in /opt/conda/lib/python3.10/site-packages (from requests<3,>=2.26->gql[requests]->dagshub) (3.4)\n",
            "Requirement already satisfied: mypy-extensions>=0.3.0 in /opt/conda/lib/python3.10/site-packages (from typing-inspect<1,>=0.4.0->dataclasses-json->dagshub) (1.0.0)\n",
            "Requirement already satisfied: typing-extensions>=3.7.4 in /opt/conda/lib/python3.10/site-packages (from typing-inspect<1,>=0.4.0->dataclasses-json->dagshub) (4.5.0)\n",
            "Requirement already satisfied: multidict>=4.0 in /opt/conda/lib/python3.10/site-packages (from yarl<2.0,>=1.6->gql[requests]->dagshub) (6.0.4)\n",
            "Requirement already satisfied: exceptiongroup in /opt/conda/lib/python3.10/site-packages (from anyio<5.0,>=3.0->httpcore<0.17.0,>=0.15.0->httpx~=0.23.0->dagshub) (1.1.3)\n",
            "Requirement already satisfied: pyparsing!=3.0.5,>=2.0.2 in /opt/conda/lib/python3.10/site-packages (from packaging>=17.0->marshmallow<4.0.0,>=3.18.0->dataclasses-json->dagshub) (3.0.9)\n",
            "Requirement already satisfied: icecream in /opt/conda/lib/python3.10/site-packages (2.1.3)\n",
            "Requirement already satisfied: colorama>=0.3.9 in /opt/conda/lib/python3.10/site-packages (from icecream) (0.4.6)\n",
            "Requirement already satisfied: pygments>=2.2.0 in /opt/conda/lib/python3.10/site-packages (from icecream) (2.16.1)\n",
            "Requirement already satisfied: executing>=0.3.1 in /opt/conda/lib/python3.10/site-packages (from icecream) (1.2.0)\n",
            "Requirement already satisfied: asttokens>=2.0.1 in /opt/conda/lib/python3.10/site-packages (from icecream) (2.2.1)\n",
            "Requirement already satisfied: six in /opt/conda/lib/python3.10/site-packages (from asttokens>=2.0.1->icecream) (1.16.0)\n",
            "\u001b[31mERROR: Could not find a version that satisfies the requirement pickle (from versions: none)\u001b[0m\u001b[31m\n",
            "\u001b[0m\u001b[31mERROR: No matching distribution found for pickle\u001b[0m\u001b[31m\n",
            "\u001b[0mRequirement already satisfied: plotly in /opt/conda/lib/python3.10/site-packages (5.16.1)\n",
            "Requirement already satisfied: tenacity>=6.2.0 in /opt/conda/lib/python3.10/site-packages (from plotly) (8.2.3)\n",
            "Requirement already satisfied: packaging in /opt/conda/lib/python3.10/site-packages (from plotly) (21.3)\n",
            "Requirement already satisfied: pyparsing!=3.0.5,>=2.0.2 in /opt/conda/lib/python3.10/site-packages (from packaging->plotly) (3.0.9)\n"
          ]
        }
      ],
      "execution_count": 211,
      "metadata": {
        "execution": {
          "iopub.status.busy": "2023-11-26T18:36:37.160200Z",
          "iopub.execute_input": "2023-11-26T18:36:37.160615Z",
          "iopub.status.idle": "2023-11-26T18:38:19.607359Z",
          "shell.execute_reply.started": "2023-11-26T18:36:37.160586Z",
          "shell.execute_reply": "2023-11-26T18:38:19.605949Z"
        },
        "trusted": true,
        "noteable": {}
      },
      "id": "3b9bf35f"
    },
    {
      "cell_type": "code",
      "source": [
        "# EDA\n",
        "import pandas as pd\n",
        "import seaborn as sns\n",
        "import plotly.express as px\n",
        "\n",
        "# Model\n",
        "from sklearn.ensemble import GradientBoostingRegressor, RandomForestRegressor\n",
        "from sklearn.model_selection import train_test_split\n",
        "from sklearn.metrics import mean_squared_error, mean_absolute_error\n",
        "\n",
        "# Optimisation & tracking\n",
        "import mlflow\n",
        "from mlflow.models import infer_signature\n",
        "import optuna\n",
        "import dagshub\n",
        "import mlflow.pyfunc\n",
        "import mlflow.sklearn\n",
        "from mlflow import MlflowClient\n",
        "from mlflow.entities import ViewType\n",
        "from mlflow.data.pandas_dataset import PandasDataset\n",
        "\n",
        "# Debugging\n",
        "from icecream import ic\n",
        "import pickle\n",
        "import session_info"
      ],
      "outputs": [],
      "execution_count": 212,
      "metadata": {
        "execution": {
          "iopub.status.busy": "2023-11-26T18:38:19.610582Z",
          "iopub.execute_input": "2023-11-26T18:38:19.611108Z",
          "iopub.status.idle": "2023-11-26T18:38:19.621043Z",
          "shell.execute_reply.started": "2023-11-26T18:38:19.611062Z",
          "shell.execute_reply": "2023-11-26T18:38:19.619919Z"
        },
        "trusted": true
      },
      "id": "0c394e8b"
    },
    {
      "cell_type": "code",
      "source": [
        "dagshub.init(\"US_stocks_prediction_project\", \"petoulemonde\", mlflow=True)\n",
        "\n",
        "ic.disable()"
      ],
      "outputs": [
        {
          "output_type": "display_data",
          "data": {
            "text/html": "<pre style=\"white-space:pre;overflow-x:auto;line-height:normal;font-family:Menlo,'DejaVu Sans Mono',consolas,'Courier New',monospace\">Repository initialized!\n</pre>\n"
          },
          "metadata": {}
        }
      ],
      "execution_count": 213,
      "metadata": {
        "execution": {
          "iopub.status.busy": "2023-11-26T18:38:19.622702Z",
          "iopub.execute_input": "2023-11-26T18:38:19.623087Z",
          "iopub.status.idle": "2023-11-26T18:38:19.909454Z",
          "shell.execute_reply.started": "2023-11-26T18:38:19.623056Z",
          "shell.execute_reply": "2023-11-26T18:38:19.908417Z"
        },
        "trusted": true,
        "noteable": {}
      },
      "id": "03f8fb8a"
    },
    {
      "cell_type": "markdown",
      "source": [
        "# 1. Load data"
      ],
      "metadata": {},
      "id": "9e395126"
    },
    {
      "cell_type": "code",
      "source": [
        "train_df = pd.read_csv(\"/kaggle/input/optiver-trading-at-the-close/train.csv\")\n",
        "\n",
        "print('The shape of the train data:', train_df.shape)"
      ],
      "outputs": [
        {
          "output_type": "stream",
          "name": "stdout",
          "text": [
            "The shape of the train data: (5237980, 17)\n"
          ]
        }
      ],
      "execution_count": 214,
      "metadata": {
        "execution": {
          "iopub.status.busy": "2023-11-26T18:38:19.912208Z",
          "iopub.execute_input": "2023-11-26T18:38:19.912551Z",
          "iopub.status.idle": "2023-11-26T18:38:39.082548Z",
          "shell.execute_reply.started": "2023-11-26T18:38:19.912521Z",
          "shell.execute_reply": "2023-11-26T18:38:39.081373Z"
        },
        "trusted": true,
        "noteable": {}
      },
      "id": "c19db084"
    },
    {
      "cell_type": "markdown",
      "source": [
        "# 2. EDA"
      ],
      "metadata": {},
      "id": "3c26c1e6"
    },
    {
      "cell_type": "code",
      "source": [
        "print(train_df.info())\n",
        "print(\"----\")\n",
        "print(train_df.describe().T)\n",
        "print(\"----\")\n",
        "print(train_df.head())"
      ],
      "outputs": [
        {
          "output_type": "stream",
          "name": "stdout",
          "text": [
            "<class 'pandas.core.frame.DataFrame'>\n",
            "RangeIndex: 5237980 entries, 0 to 5237979\n",
            "Data columns (total 17 columns):\n",
            " #   Column                   Dtype  \n",
            "---  ------                   -----  \n",
            " 0   stock_id                 int64  \n",
            " 1   date_id                  int64  \n",
            " 2   seconds_in_bucket        int64  \n",
            " 3   imbalance_size           float64\n",
            " 4   imbalance_buy_sell_flag  int64  \n",
            " 5   reference_price          float64\n",
            " 6   matched_size             float64\n",
            " 7   far_price                float64\n",
            " 8   near_price               float64\n",
            " 9   bid_price                float64\n",
            " 10  bid_size                 float64\n",
            " 11  ask_price                float64\n",
            " 12  ask_size                 float64\n",
            " 13  wap                      float64\n",
            " 14  target                   float64\n",
            " 15  time_id                  int64  \n",
            " 16  row_id                   object \n",
            "dtypes: float64(11), int64(5), object(1)\n",
            "memory usage: 679.4+ MB\n",
            "None\n",
            "----\n",
            "                             count          mean           std          min  \\\n",
            "stock_id                 5237980.0  9.928856e+01  5.787176e+01     0.000000   \n",
            "date_id                  5237980.0  2.415100e+02  1.385319e+02     0.000000   \n",
            "seconds_in_bucket        5237980.0  2.700000e+02  1.587451e+02     0.000000   \n",
            "imbalance_size           5237760.0  5.715293e+06  2.051591e+07     0.000000   \n",
            "imbalance_buy_sell_flag  5237980.0 -1.189619e-02  8.853374e-01    -1.000000   \n",
            "reference_price          5237760.0  9.999955e-01  2.532497e-03     0.935285   \n",
            "matched_size             5237760.0  4.510025e+07  1.398413e+08  4316.610000   \n",
            "far_price                2343638.0  1.001713e+00  7.214705e-01     0.000077   \n",
            "near_price               2380800.0  9.996601e-01  1.216920e-02     0.786988   \n",
            "bid_price                5237760.0  9.997263e-01  2.499345e-03     0.934915   \n",
            "bid_size                 5237980.0  5.181359e+04  1.114214e+05     0.000000   \n",
            "ask_price                5237760.0  1.000264e+00  2.510042e-03     0.939827   \n",
            "ask_size                 5237980.0  5.357568e+04  1.293554e+05     0.000000   \n",
            "wap                      5237760.0  9.999920e-01  2.497509e-03     0.938008   \n",
            "target                   5237892.0 -4.756125e-02  9.452860e+00  -385.289800   \n",
            "time_id                  5237980.0  1.331005e+04  7.619271e+03     0.000000   \n",
            "\n",
            "                                  25%           50%           75%  \\\n",
            "stock_id                 4.900000e+01  9.900000e+01  1.490000e+02   \n",
            "date_id                  1.220000e+02  2.420000e+02  3.610000e+02   \n",
            "seconds_in_bucket        1.300000e+02  2.700000e+02  4.100000e+02   \n",
            "imbalance_size           8.453415e+04  1.113604e+06  4.190951e+06   \n",
            "imbalance_buy_sell_flag -1.000000e+00  0.000000e+00  1.000000e+00   \n",
            "reference_price          9.987630e-01  9.999670e-01  1.001174e+00   \n",
            "matched_size             5.279575e+06  1.288264e+07  3.270013e+07   \n",
            "far_price                9.963320e-01  9.998830e-01  1.003318e+00   \n",
            "near_price               9.971000e-01  9.998890e-01  1.002590e+00   \n",
            "bid_price                9.985290e-01  9.997280e-01  1.000905e+00   \n",
            "bid_size                 7.374720e+03  2.196900e+04  5.583168e+04   \n",
            "ask_price                9.990290e-01  1.000207e+00  1.001414e+00   \n",
            "ask_size                 7.823700e+03  2.301792e+04  5.787841e+04   \n",
            "wap                      9.987810e-01  9.999970e-01  1.001149e+00   \n",
            "target                  -4.559755e+00 -6.020069e-02  4.409552e+00   \n",
            "time_id                  6.729000e+03  1.334500e+04  1.990700e+04   \n",
            "\n",
            "                                  max  \n",
            "stock_id                 1.990000e+02  \n",
            "date_id                  4.800000e+02  \n",
            "seconds_in_bucket        5.400000e+02  \n",
            "imbalance_size           2.982028e+09  \n",
            "imbalance_buy_sell_flag  1.000000e+00  \n",
            "reference_price          1.077488e+00  \n",
            "matched_size             7.713682e+09  \n",
            "far_price                4.379531e+02  \n",
            "near_price               1.309732e+00  \n",
            "bid_price                1.077488e+00  \n",
            "bid_size                 3.028784e+07  \n",
            "ask_price                1.077836e+00  \n",
            "ask_size                 5.440500e+07  \n",
            "wap                      1.077675e+00  \n",
            "target                   4.460704e+02  \n",
            "time_id                  2.645400e+04  \n",
            "----\n",
            "   stock_id  date_id  seconds_in_bucket  imbalance_size  \\\n",
            "0         0        0                  0      3180602.69   \n",
            "1         1        0                  0       166603.91   \n",
            "2         2        0                  0       302879.87   \n",
            "3         3        0                  0     11917682.27   \n",
            "4         4        0                  0       447549.96   \n",
            "\n",
            "   imbalance_buy_sell_flag  reference_price  matched_size  far_price  \\\n",
            "0                        1         0.999812   13380276.64        NaN   \n",
            "1                       -1         0.999896    1642214.25        NaN   \n",
            "2                       -1         0.999561    1819368.03        NaN   \n",
            "3                       -1         1.000171   18389745.62        NaN   \n",
            "4                       -1         0.999532   17860614.95        NaN   \n",
            "\n",
            "   near_price  bid_price  bid_size  ask_price   ask_size  wap    target  \\\n",
            "0         NaN   0.999812  60651.50   1.000026    8493.03  1.0 -3.029704   \n",
            "1         NaN   0.999896   3233.04   1.000660   20605.09  1.0 -5.519986   \n",
            "2         NaN   0.999403  37956.00   1.000298   18995.00  1.0 -8.389950   \n",
            "3         NaN   0.999999   2324.90   1.000214  479032.40  1.0 -4.010200   \n",
            "4         NaN   0.999394  16485.54   1.000016     434.10  1.0 -7.349849   \n",
            "\n",
            "   time_id row_id  \n",
            "0        0  0_0_0  \n",
            "1        0  0_0_1  \n",
            "2        0  0_0_2  \n",
            "3        0  0_0_3  \n",
            "4        0  0_0_4  \n"
          ]
        }
      ],
      "execution_count": 215,
      "metadata": {
        "execution": {
          "iopub.status.busy": "2023-11-26T18:38:39.084188Z",
          "iopub.execute_input": "2023-11-26T18:38:39.085460Z",
          "iopub.status.idle": "2023-11-26T18:38:42.762465Z",
          "shell.execute_reply.started": "2023-11-26T18:38:39.085421Z",
          "shell.execute_reply": "2023-11-26T18:38:42.761671Z"
        },
        "trusted": true,
        "noteable": {}
      },
      "id": "e8d80438"
    },
    {
      "cell_type": "code",
      "source": [
        "train_df = train_df.dropna().drop(\"row_id\", axis = 1)\n",
        "\n",
        "def summary(df):\n",
        "    sum = pd.DataFrame(df.dtypes, columns=['dtypes'])\n",
        "    sum['missing#'] = df.isna().sum()\n",
        "    sum['missing%'] = (df.isna().sum())/len(df)\n",
        "    sum['uniques'] = df.nunique().values\n",
        "    sum['count'] = df.count().values\n",
        "    #sum['skew'] = df.skew().values\n",
        "    return sum\n",
        "\n",
        "print(summary(train_df))"
      ],
      "outputs": [
        {
          "output_type": "stream",
          "name": "stdout",
          "text": [
            "                          dtypes  missing#  missing%  uniques    count\n",
            "stock_id                   int64         0       0.0      200  2343638\n",
            "date_id                    int64         0       0.0      481  2343638\n",
            "seconds_in_bucket          int64         0       0.0       25  2343638\n",
            "imbalance_size           float64         0       0.0  1194405  2343638\n",
            "imbalance_buy_sell_flag    int64         0       0.0        3  2343638\n",
            "reference_price          float64         0       0.0    27174  2343638\n",
            "matched_size             float64         0       0.0  1303496  2343638\n",
            "far_price                float64         0       0.0    95739  2343638\n",
            "near_price               float64         0       0.0    76175  2343638\n",
            "bid_price                float64         0       0.0    26816  2343638\n",
            "bid_size                 float64         0       0.0  1641319  2343638\n",
            "ask_price                float64         0       0.0    26706  2343638\n",
            "ask_size                 float64         0       0.0  1657589  2343638\n",
            "wap                      float64         0       0.0    29605  2343638\n",
            "target                   float64         0       0.0    12113  2343638\n",
            "time_id                    int64         0       0.0    12025  2343638\n"
          ]
        }
      ],
      "execution_count": 216,
      "metadata": {
        "execution": {
          "iopub.status.busy": "2023-11-26T18:38:42.763578Z",
          "iopub.execute_input": "2023-11-26T18:38:42.764349Z",
          "iopub.status.idle": "2023-11-26T18:38:45.218039Z",
          "shell.execute_reply.started": "2023-11-26T18:38:42.764317Z",
          "shell.execute_reply": "2023-11-26T18:38:45.216807Z"
        },
        "trusted": true,
        "noteable": {}
      },
      "id": "6a01296c"
    },
    {
      "cell_type": "code",
      "source": [
        "# print(train_df.hist())"
      ],
      "outputs": [],
      "execution_count": 217,
      "metadata": {
        "execution": {
          "iopub.status.busy": "2023-11-26T18:38:45.219500Z",
          "iopub.execute_input": "2023-11-26T18:38:45.219871Z",
          "iopub.status.idle": "2023-11-26T18:38:45.227614Z",
          "shell.execute_reply.started": "2023-11-26T18:38:45.219839Z",
          "shell.execute_reply": "2023-11-26T18:38:45.226415Z"
        },
        "trusted": true
      },
      "id": "9acc087c"
    },
    {
      "cell_type": "code",
      "source": [
        "# print(sns.pairplot(train_df, hue = \"target\", corner = True))"
      ],
      "outputs": [],
      "execution_count": 218,
      "metadata": {
        "execution": {
          "iopub.status.busy": "2023-11-26T18:38:45.229444Z",
          "iopub.execute_input": "2023-11-26T18:38:45.229813Z",
          "iopub.status.idle": "2023-11-26T18:38:45.237595Z",
          "shell.execute_reply.started": "2023-11-26T18:38:45.229774Z",
          "shell.execute_reply": "2023-11-26T18:38:45.236591Z"
        },
        "trusted": true
      },
      "id": "e8fe9bcd"
    },
    {
      "cell_type": "code",
      "source": [
        "# sns.heatmap(train_df[numerical_columns].corr(), annot = True, cmap='Blues', fmt='.2f')"
      ],
      "outputs": [],
      "execution_count": 219,
      "metadata": {
        "execution": {
          "iopub.status.busy": "2023-11-26T18:38:45.239463Z",
          "iopub.execute_input": "2023-11-26T18:38:45.239901Z",
          "iopub.status.idle": "2023-11-26T18:38:45.248845Z",
          "shell.execute_reply.started": "2023-11-26T18:38:45.239868Z",
          "shell.execute_reply": "2023-11-26T18:38:45.247795Z"
        },
        "trusted": true
      },
      "id": "5bd1ec5b"
    },
    {
      "cell_type": "markdown",
      "source": [
        "# 3. Preprocessing & Feature engineering"
      ],
      "metadata": {},
      "id": "58102855"
    },
    {
      "cell_type": "code",
      "source": [
        "X_train, X_val, y_train, y_val = train_test_split(train_df.drop(\"target\", axis = 1).head(n = 500),\n",
        "                                                   train_df[\"target\"].head(n = 500), \n",
        "                                                   test_size = 0.3, \n",
        "                                                   random_state = 42)\n",
        "ic(X_train.head())\n",
        "ic(X_val.head())\n",
        "ic(y_train.head())\n",
        "ic(y_val.head())"
      ],
      "outputs": [
        {
          "output_type": "execute_result",
          "execution_count": null,
          "data": {
            "text/plain": "6099    1.440048\n5805    1.000166\n6112   -5.440116\n5889   -2.819896\n5838   -4.510283\nName: target, dtype: float64"
          },
          "metadata": {}
        }
      ],
      "execution_count": 220,
      "metadata": {
        "execution": {
          "iopub.status.busy": "2023-11-26T18:38:45.252730Z",
          "iopub.execute_input": "2023-11-26T18:38:45.253112Z",
          "iopub.status.idle": "2023-11-26T18:38:45.323620Z",
          "shell.execute_reply.started": "2023-11-26T18:38:45.253083Z",
          "shell.execute_reply": "2023-11-26T18:38:45.322189Z"
        },
        "trusted": true,
        "noteable": {}
      },
      "id": "26a7ea32"
    },
    {
      "cell_type": "markdown",
      "source": [
        "# 4. Models"
      ],
      "metadata": {},
      "id": "2767f257"
    },
    {
      "cell_type": "code",
      "source": [
        "tags = {\"team\": \"Pierre-Etienne\",\n",
        "        \"dataset\": \"US_stocks\"}\n",
        "ic(\"Initiate cell\")\n",
        "\n",
        "train_mlflow: PandasDataset = mlflow.data.from_pandas(pd.concat([X_train, y_train]))\n",
        "\n",
        "with open(\"X_training_dataset.csv\", \"wb\") as f:\n",
        "    pickle.dump(X_train, f)\n",
        "with open(\"y_training_dataset.csv\", \"wb\") as f:\n",
        "    pickle.dump(y_train, f)\n",
        "\n",
        "def objective(trial):\n",
        "    mlflow.start_run()\n",
        "\n",
        "    classifier_name = trial.suggest_categorical('classifier', ['GradientBoostingRegressor', 'RandomForestRegressor'])\n",
        "\n",
        "    if classifier_name == 'GradientBoostingRegressor':\n",
        "        try : \n",
        "            n_estimators = trial.suggest_int('n_estimators', 50, 1000)\n",
        "            subsample = trial.suggest_float('subsample', 0.1, 0.9)\n",
        "            \n",
        "            classifier_obj = GradientBoostingRegressor(\n",
        "                n_estimators = n_estimators,\n",
        "                subsample = subsample)\n",
        "            \n",
        "            predictions = classifier_obj.fit(X_train, y_train).predict(X_val)\n",
        "            \n",
        "            score = mean_squared_error(y_val, predictions)\n",
        "            \n",
        "            mlflow.log_param(\"n_estimators\", n_estimators)\n",
        "            mlflow.log_param('subsample', subsample)\n",
        "            mlflow.log_param('model', classifier_name)\n",
        "            mlflow.log_metric('rmse', score)\n",
        "            mlflow.log_input(train_mlflow, context=\"training\")\n",
        "            \n",
        "            signature = infer_signature(X_val, y_val)\n",
        "\n",
        "            mlflow.sklearn.log_model(\n",
        "                sk_model = classifier_obj,\n",
        "                artifact_path = \"sklearn-model\",\n",
        "                signature = signature,\n",
        "                registered_model_name = \"sk-learn-gradient-boosting-reg-model\",\n",
        "                input_example = train_df.iloc[[0]] , \n",
        "            )\n",
        "            \n",
        "            mlflow.set_tags(tags)\n",
        "\n",
        "        except Exception as e : \n",
        "            print(\"Error in mlflow tracking\")\n",
        "            print(e)\n",
        "        \n",
        "    else:\n",
        "        try : \n",
        "            n_estimators = trial.suggest_int('n_estimators', 50, 1000)\n",
        "            \n",
        "            classifier_obj = RandomForestRegressor(n_estimators = n_estimators)\n",
        "        \n",
        "            predictions = classifier_obj.fit(X_train, y_train).predict(X_val)\n",
        "            \n",
        "            score = mean_squared_error(y_val, predictions)\n",
        "            \n",
        "            mlflow.log_param(\"n_estimators\", n_estimators)\n",
        "            mlflow.log_param('model', classifier_name)\n",
        "            mlflow.log_metric('rmse', score)\n",
        "            mlflow.log_input(train_mlflow, context=\"training\")\n",
        "            \n",
        "            signature = infer_signature(X_val, y_val)\n",
        "\n",
        "            mlflow.sklearn.log_model(\n",
        "                sk_model = classifier_obj,\n",
        "                artifact_path = \"sklearn-model\",\n",
        "                signature = signature,\n",
        "                registered_model_name = \"sk-learn-random-forest-reg-model\",\n",
        "                input_example = train_df.iloc[[0]] , \n",
        "            )\n",
        "            \n",
        "            mlflow.set_tags(tags)\n",
        "\n",
        "        except Exception as e : \n",
        "            print(\"Error in mlflow tracking\")\n",
        "            print(e)\n",
        "\n",
        "    mlflow.end_run()\n",
        "    \n",
        "    print(\"\\n-----------\\n\")\n",
        "\n",
        "    return score\n",
        "\n",
        "study = optuna.create_study(study_name = \"US_stocks_accuracy\")\n",
        "study.optimize(objective, n_trials = 20)"
      ],
      "outputs": [
        {
          "output_type": "stream",
          "name": "stdout",
          "text": [
            "[I 2023-11-26 18:38:45,365] A new study created in memory with name: US_stocks_accuracy\n",
            "/opt/conda/lib/python3.10/site-packages/mlflow/models/signature.py:212: UserWarning:\n",
            "\n",
            "Hint: Inferred schema contains integer column(s). Integer columns in Python cannot represent missing values. If your input data contains missing values at inference time, it will be encoded as floats and will cause a schema enforcement error. The best way to avoid this problem is to infer the model schema based on a realistic data sample (training dataset) that includes missing values. Alternatively, you can declare integer columns as doubles (float64) whenever these columns may have missing values. See `Handling Integers With Missing Values <https://www.mlflow.org/docs/latest/models.html#handling-integers-with-missing-values>`_ for more details.\n",
            "\n",
            "/opt/conda/lib/python3.10/site-packages/_distutils_hack/__init__.py:18: UserWarning:\n",
            "\n",
            "Distutils was imported before Setuptools, but importing Setuptools also replaces the `distutils` module in `sys.modules`. This may lead to undesirable behaviors or errors. To avoid these issues, avoid using distutils directly, ensure that setuptools is installed in the traditional way (e.g. not an editable install), and/or make sure that setuptools is always imported before distutils.\n",
            "\n",
            "/opt/conda/lib/python3.10/site-packages/_distutils_hack/__init__.py:33: UserWarning:\n",
            "\n",
            "Setuptools is replacing distutils.\n",
            "\n",
            "Registered model 'sk-learn-random-forest-reg-model' already exists. Creating a new version of this model...\n",
            "2023/11/26 18:38:56 INFO mlflow.store.model_registry.abstract_store: Waiting up to 300 seconds for model version to finish creation. Model name: sk-learn-random-forest-reg-model, version 42\n",
            "Created version '42' of model 'sk-learn-random-forest-reg-model'.\n",
            "[I 2023-11-26 18:38:57,108] Trial 0 finished with value: 44.60000564522882 and parameters: {'classifier': 'RandomForestRegressor', 'n_estimators': 521}. Best is trial 0 with value: 44.60000564522882.\n"
          ]
        },
        {
          "output_type": "stream",
          "name": "stdout",
          "text": [
            "\n",
            "-----------\n",
            "\n"
          ]
        },
        {
          "output_type": "stream",
          "name": "stdout",
          "text": [
            "/opt/conda/lib/python3.10/site-packages/mlflow/models/signature.py:212: UserWarning:\n",
            "\n",
            "Hint: Inferred schema contains integer column(s). Integer columns in Python cannot represent missing values. If your input data contains missing values at inference time, it will be encoded as floats and will cause a schema enforcement error. The best way to avoid this problem is to infer the model schema based on a realistic data sample (training dataset) that includes missing values. Alternatively, you can declare integer columns as doubles (float64) whenever these columns may have missing values. See `Handling Integers With Missing Values <https://www.mlflow.org/docs/latest/models.html#handling-integers-with-missing-values>`_ for more details.\n",
            "\n",
            "/opt/conda/lib/python3.10/site-packages/_distutils_hack/__init__.py:18: UserWarning:\n",
            "\n",
            "Distutils was imported before Setuptools, but importing Setuptools also replaces the `distutils` module in `sys.modules`. This may lead to undesirable behaviors or errors. To avoid these issues, avoid using distutils directly, ensure that setuptools is installed in the traditional way (e.g. not an editable install), and/or make sure that setuptools is always imported before distutils.\n",
            "\n",
            "/opt/conda/lib/python3.10/site-packages/_distutils_hack/__init__.py:33: UserWarning:\n",
            "\n",
            "Setuptools is replacing distutils.\n",
            "\n",
            "Registered model 'sk-learn-gradient-boosting-reg-model' already exists. Creating a new version of this model...\n",
            "2023/11/26 18:39:06 INFO mlflow.store.model_registry.abstract_store: Waiting up to 300 seconds for model version to finish creation. Model name: sk-learn-gradient-boosting-reg-model, version 57\n",
            "Created version '57' of model 'sk-learn-gradient-boosting-reg-model'.\n",
            "[I 2023-11-26 18:39:07,241] Trial 1 finished with value: 58.11263994356859 and parameters: {'classifier': 'GradientBoostingRegressor', 'n_estimators': 881, 'subsample': 0.39530929407267734}. Best is trial 0 with value: 44.60000564522882.\n"
          ]
        },
        {
          "output_type": "stream",
          "name": "stdout",
          "text": [
            "\n",
            "-----------\n",
            "\n"
          ]
        },
        {
          "output_type": "stream",
          "name": "stdout",
          "text": [
            "/opt/conda/lib/python3.10/site-packages/mlflow/models/signature.py:212: UserWarning:\n",
            "\n",
            "Hint: Inferred schema contains integer column(s). Integer columns in Python cannot represent missing values. If your input data contains missing values at inference time, it will be encoded as floats and will cause a schema enforcement error. The best way to avoid this problem is to infer the model schema based on a realistic data sample (training dataset) that includes missing values. Alternatively, you can declare integer columns as doubles (float64) whenever these columns may have missing values. See `Handling Integers With Missing Values <https://www.mlflow.org/docs/latest/models.html#handling-integers-with-missing-values>`_ for more details.\n",
            "\n",
            "/opt/conda/lib/python3.10/site-packages/_distutils_hack/__init__.py:18: UserWarning:\n",
            "\n",
            "Distutils was imported before Setuptools, but importing Setuptools also replaces the `distutils` module in `sys.modules`. This may lead to undesirable behaviors or errors. To avoid these issues, avoid using distutils directly, ensure that setuptools is installed in the traditional way (e.g. not an editable install), and/or make sure that setuptools is always imported before distutils.\n",
            "\n",
            "/opt/conda/lib/python3.10/site-packages/_distutils_hack/__init__.py:33: UserWarning:\n",
            "\n",
            "Setuptools is replacing distutils.\n",
            "\n",
            "Registered model 'sk-learn-gradient-boosting-reg-model' already exists. Creating a new version of this model...\n",
            "2023/11/26 18:39:16 INFO mlflow.store.model_registry.abstract_store: Waiting up to 300 seconds for model version to finish creation. Model name: sk-learn-gradient-boosting-reg-model, version 58\n",
            "Created version '58' of model 'sk-learn-gradient-boosting-reg-model'.\n",
            "[I 2023-11-26 18:39:16,978] Trial 2 finished with value: 50.267227852085114 and parameters: {'classifier': 'GradientBoostingRegressor', 'n_estimators': 422, 'subsample': 0.8815222361299052}. Best is trial 0 with value: 44.60000564522882.\n"
          ]
        },
        {
          "output_type": "stream",
          "name": "stdout",
          "text": [
            "\n",
            "-----------\n",
            "\n"
          ]
        },
        {
          "output_type": "stream",
          "name": "stdout",
          "text": [
            "/opt/conda/lib/python3.10/site-packages/mlflow/models/signature.py:212: UserWarning:\n",
            "\n",
            "Hint: Inferred schema contains integer column(s). Integer columns in Python cannot represent missing values. If your input data contains missing values at inference time, it will be encoded as floats and will cause a schema enforcement error. The best way to avoid this problem is to infer the model schema based on a realistic data sample (training dataset) that includes missing values. Alternatively, you can declare integer columns as doubles (float64) whenever these columns may have missing values. See `Handling Integers With Missing Values <https://www.mlflow.org/docs/latest/models.html#handling-integers-with-missing-values>`_ for more details.\n",
            "\n",
            "/opt/conda/lib/python3.10/site-packages/_distutils_hack/__init__.py:18: UserWarning:\n",
            "\n",
            "Distutils was imported before Setuptools, but importing Setuptools also replaces the `distutils` module in `sys.modules`. This may lead to undesirable behaviors or errors. To avoid these issues, avoid using distutils directly, ensure that setuptools is installed in the traditional way (e.g. not an editable install), and/or make sure that setuptools is always imported before distutils.\n",
            "\n",
            "/opt/conda/lib/python3.10/site-packages/_distutils_hack/__init__.py:33: UserWarning:\n",
            "\n",
            "Setuptools is replacing distutils.\n",
            "\n",
            "Registered model 'sk-learn-gradient-boosting-reg-model' already exists. Creating a new version of this model...\n",
            "2023/11/26 18:39:26 INFO mlflow.store.model_registry.abstract_store: Waiting up to 300 seconds for model version to finish creation. Model name: sk-learn-gradient-boosting-reg-model, version 59\n",
            "Created version '59' of model 'sk-learn-gradient-boosting-reg-model'.\n",
            "[I 2023-11-26 18:39:27,299] Trial 3 finished with value: 53.39506034644788 and parameters: {'classifier': 'GradientBoostingRegressor', 'n_estimators': 969, 'subsample': 0.43829020764598814}. Best is trial 0 with value: 44.60000564522882.\n"
          ]
        },
        {
          "output_type": "stream",
          "name": "stdout",
          "text": [
            "\n",
            "-----------\n",
            "\n"
          ]
        },
        {
          "output_type": "stream",
          "name": "stdout",
          "text": [
            "/opt/conda/lib/python3.10/site-packages/mlflow/models/signature.py:212: UserWarning:\n",
            "\n",
            "Hint: Inferred schema contains integer column(s). Integer columns in Python cannot represent missing values. If your input data contains missing values at inference time, it will be encoded as floats and will cause a schema enforcement error. The best way to avoid this problem is to infer the model schema based on a realistic data sample (training dataset) that includes missing values. Alternatively, you can declare integer columns as doubles (float64) whenever these columns may have missing values. See `Handling Integers With Missing Values <https://www.mlflow.org/docs/latest/models.html#handling-integers-with-missing-values>`_ for more details.\n",
            "\n",
            "/opt/conda/lib/python3.10/site-packages/_distutils_hack/__init__.py:18: UserWarning:\n",
            "\n",
            "Distutils was imported before Setuptools, but importing Setuptools also replaces the `distutils` module in `sys.modules`. This may lead to undesirable behaviors or errors. To avoid these issues, avoid using distutils directly, ensure that setuptools is installed in the traditional way (e.g. not an editable install), and/or make sure that setuptools is always imported before distutils.\n",
            "\n",
            "/opt/conda/lib/python3.10/site-packages/_distutils_hack/__init__.py:33: UserWarning:\n",
            "\n",
            "Setuptools is replacing distutils.\n",
            "\n",
            "Registered model 'sk-learn-random-forest-reg-model' already exists. Creating a new version of this model...\n",
            "2023/11/26 18:39:39 INFO mlflow.store.model_registry.abstract_store: Waiting up to 300 seconds for model version to finish creation. Model name: sk-learn-random-forest-reg-model, version 43\n",
            "Created version '43' of model 'sk-learn-random-forest-reg-model'.\n",
            "[I 2023-11-26 18:39:39,558] Trial 4 finished with value: 45.15076637401884 and parameters: {'classifier': 'RandomForestRegressor', 'n_estimators': 640}. Best is trial 0 with value: 44.60000564522882.\n"
          ]
        },
        {
          "output_type": "stream",
          "name": "stdout",
          "text": [
            "\n",
            "-----------\n",
            "\n"
          ]
        },
        {
          "output_type": "stream",
          "name": "stdout",
          "text": [
            "/opt/conda/lib/python3.10/site-packages/mlflow/models/signature.py:212: UserWarning:\n",
            "\n",
            "Hint: Inferred schema contains integer column(s). Integer columns in Python cannot represent missing values. If your input data contains missing values at inference time, it will be encoded as floats and will cause a schema enforcement error. The best way to avoid this problem is to infer the model schema based on a realistic data sample (training dataset) that includes missing values. Alternatively, you can declare integer columns as doubles (float64) whenever these columns may have missing values. See `Handling Integers With Missing Values <https://www.mlflow.org/docs/latest/models.html#handling-integers-with-missing-values>`_ for more details.\n",
            "\n",
            "/opt/conda/lib/python3.10/site-packages/_distutils_hack/__init__.py:18: UserWarning:\n",
            "\n",
            "Distutils was imported before Setuptools, but importing Setuptools also replaces the `distutils` module in `sys.modules`. This may lead to undesirable behaviors or errors. To avoid these issues, avoid using distutils directly, ensure that setuptools is installed in the traditional way (e.g. not an editable install), and/or make sure that setuptools is always imported before distutils.\n",
            "\n",
            "/opt/conda/lib/python3.10/site-packages/_distutils_hack/__init__.py:33: UserWarning:\n",
            "\n",
            "Setuptools is replacing distutils.\n",
            "\n",
            "Registered model 'sk-learn-random-forest-reg-model' already exists. Creating a new version of this model...\n",
            "2023/11/26 18:39:51 INFO mlflow.store.model_registry.abstract_store: Waiting up to 300 seconds for model version to finish creation. Model name: sk-learn-random-forest-reg-model, version 44\n",
            "Created version '44' of model 'sk-learn-random-forest-reg-model'.\n",
            "[I 2023-11-26 18:39:52,086] Trial 5 finished with value: 44.66437980022255 and parameters: {'classifier': 'RandomForestRegressor', 'n_estimators': 711}. Best is trial 0 with value: 44.60000564522882.\n"
          ]
        },
        {
          "output_type": "stream",
          "name": "stdout",
          "text": [
            "\n",
            "-----------\n",
            "\n"
          ]
        },
        {
          "output_type": "stream",
          "name": "stdout",
          "text": [
            "/opt/conda/lib/python3.10/site-packages/mlflow/models/signature.py:212: UserWarning:\n",
            "\n",
            "Hint: Inferred schema contains integer column(s). Integer columns in Python cannot represent missing values. If your input data contains missing values at inference time, it will be encoded as floats and will cause a schema enforcement error. The best way to avoid this problem is to infer the model schema based on a realistic data sample (training dataset) that includes missing values. Alternatively, you can declare integer columns as doubles (float64) whenever these columns may have missing values. See `Handling Integers With Missing Values <https://www.mlflow.org/docs/latest/models.html#handling-integers-with-missing-values>`_ for more details.\n",
            "\n",
            "/opt/conda/lib/python3.10/site-packages/_distutils_hack/__init__.py:18: UserWarning:\n",
            "\n",
            "Distutils was imported before Setuptools, but importing Setuptools also replaces the `distutils` module in `sys.modules`. This may lead to undesirable behaviors or errors. To avoid these issues, avoid using distutils directly, ensure that setuptools is installed in the traditional way (e.g. not an editable install), and/or make sure that setuptools is always imported before distutils.\n",
            "\n",
            "/opt/conda/lib/python3.10/site-packages/_distutils_hack/__init__.py:33: UserWarning:\n",
            "\n",
            "Setuptools is replacing distutils.\n",
            "\n",
            "Registered model 'sk-learn-random-forest-reg-model' already exists. Creating a new version of this model...\n",
            "2023/11/26 18:40:03 INFO mlflow.store.model_registry.abstract_store: Waiting up to 300 seconds for model version to finish creation. Model name: sk-learn-random-forest-reg-model, version 45\n",
            "Created version '45' of model 'sk-learn-random-forest-reg-model'.\n",
            "[I 2023-11-26 18:40:03,469] Trial 6 finished with value: 44.944791757765934 and parameters: {'classifier': 'RandomForestRegressor', 'n_estimators': 504}. Best is trial 0 with value: 44.60000564522882.\n"
          ]
        },
        {
          "output_type": "stream",
          "name": "stdout",
          "text": [
            "\n",
            "-----------\n",
            "\n"
          ]
        },
        {
          "output_type": "stream",
          "name": "stdout",
          "text": [
            "/opt/conda/lib/python3.10/site-packages/mlflow/models/signature.py:212: UserWarning:\n",
            "\n",
            "Hint: Inferred schema contains integer column(s). Integer columns in Python cannot represent missing values. If your input data contains missing values at inference time, it will be encoded as floats and will cause a schema enforcement error. The best way to avoid this problem is to infer the model schema based on a realistic data sample (training dataset) that includes missing values. Alternatively, you can declare integer columns as doubles (float64) whenever these columns may have missing values. See `Handling Integers With Missing Values <https://www.mlflow.org/docs/latest/models.html#handling-integers-with-missing-values>`_ for more details.\n",
            "\n",
            "/opt/conda/lib/python3.10/site-packages/_distutils_hack/__init__.py:18: UserWarning:\n",
            "\n",
            "Distutils was imported before Setuptools, but importing Setuptools also replaces the `distutils` module in `sys.modules`. This may lead to undesirable behaviors or errors. To avoid these issues, avoid using distutils directly, ensure that setuptools is installed in the traditional way (e.g. not an editable install), and/or make sure that setuptools is always imported before distutils.\n",
            "\n",
            "/opt/conda/lib/python3.10/site-packages/_distutils_hack/__init__.py:33: UserWarning:\n",
            "\n",
            "Setuptools is replacing distutils.\n",
            "\n",
            "Registered model 'sk-learn-random-forest-reg-model' already exists. Creating a new version of this model...\n",
            "2023/11/26 18:40:15 INFO mlflow.store.model_registry.abstract_store: Waiting up to 300 seconds for model version to finish creation. Model name: sk-learn-random-forest-reg-model, version 46\n",
            "Created version '46' of model 'sk-learn-random-forest-reg-model'.\n",
            "[I 2023-11-26 18:40:15,722] Trial 7 finished with value: 45.368548501330295 and parameters: {'classifier': 'RandomForestRegressor', 'n_estimators': 673}. Best is trial 0 with value: 44.60000564522882.\n"
          ]
        },
        {
          "output_type": "stream",
          "name": "stdout",
          "text": [
            "\n",
            "-----------\n",
            "\n"
          ]
        },
        {
          "output_type": "stream",
          "name": "stdout",
          "text": [
            "/opt/conda/lib/python3.10/site-packages/mlflow/models/signature.py:212: UserWarning:\n",
            "\n",
            "Hint: Inferred schema contains integer column(s). Integer columns in Python cannot represent missing values. If your input data contains missing values at inference time, it will be encoded as floats and will cause a schema enforcement error. The best way to avoid this problem is to infer the model schema based on a realistic data sample (training dataset) that includes missing values. Alternatively, you can declare integer columns as doubles (float64) whenever these columns may have missing values. See `Handling Integers With Missing Values <https://www.mlflow.org/docs/latest/models.html#handling-integers-with-missing-values>`_ for more details.\n",
            "\n",
            "/opt/conda/lib/python3.10/site-packages/_distutils_hack/__init__.py:18: UserWarning:\n",
            "\n",
            "Distutils was imported before Setuptools, but importing Setuptools also replaces the `distutils` module in `sys.modules`. This may lead to undesirable behaviors or errors. To avoid these issues, avoid using distutils directly, ensure that setuptools is installed in the traditional way (e.g. not an editable install), and/or make sure that setuptools is always imported before distutils.\n",
            "\n",
            "/opt/conda/lib/python3.10/site-packages/_distutils_hack/__init__.py:33: UserWarning:\n",
            "\n",
            "Setuptools is replacing distutils.\n",
            "\n",
            "Registered model 'sk-learn-gradient-boosting-reg-model' already exists. Creating a new version of this model...\n",
            "2023/11/26 18:40:24 INFO mlflow.store.model_registry.abstract_store: Waiting up to 300 seconds for model version to finish creation. Model name: sk-learn-gradient-boosting-reg-model, version 60\n",
            "Created version '60' of model 'sk-learn-gradient-boosting-reg-model'.\n",
            "[I 2023-11-26 18:40:25,213] Trial 8 finished with value: 50.604015294095504 and parameters: {'classifier': 'GradientBoostingRegressor', 'n_estimators': 312, 'subsample': 0.8742540361355083}. Best is trial 0 with value: 44.60000564522882.\n"
          ]
        },
        {
          "output_type": "stream",
          "name": "stdout",
          "text": [
            "\n",
            "-----------\n",
            "\n"
          ]
        },
        {
          "output_type": "stream",
          "name": "stdout",
          "text": [
            "/opt/conda/lib/python3.10/site-packages/mlflow/models/signature.py:212: UserWarning:\n",
            "\n",
            "Hint: Inferred schema contains integer column(s). Integer columns in Python cannot represent missing values. If your input data contains missing values at inference time, it will be encoded as floats and will cause a schema enforcement error. The best way to avoid this problem is to infer the model schema based on a realistic data sample (training dataset) that includes missing values. Alternatively, you can declare integer columns as doubles (float64) whenever these columns may have missing values. See `Handling Integers With Missing Values <https://www.mlflow.org/docs/latest/models.html#handling-integers-with-missing-values>`_ for more details.\n",
            "\n",
            "/opt/conda/lib/python3.10/site-packages/_distutils_hack/__init__.py:18: UserWarning:\n",
            "\n",
            "Distutils was imported before Setuptools, but importing Setuptools also replaces the `distutils` module in `sys.modules`. This may lead to undesirable behaviors or errors. To avoid these issues, avoid using distutils directly, ensure that setuptools is installed in the traditional way (e.g. not an editable install), and/or make sure that setuptools is always imported before distutils.\n",
            "\n",
            "/opt/conda/lib/python3.10/site-packages/_distutils_hack/__init__.py:33: UserWarning:\n",
            "\n",
            "Setuptools is replacing distutils.\n",
            "\n",
            "Registered model 'sk-learn-random-forest-reg-model' already exists. Creating a new version of this model...\n",
            "2023/11/26 18:40:37 INFO mlflow.store.model_registry.abstract_store: Waiting up to 300 seconds for model version to finish creation. Model name: sk-learn-random-forest-reg-model, version 47\n",
            "Created version '47' of model 'sk-learn-random-forest-reg-model'.\n",
            "[I 2023-11-26 18:40:37,411] Trial 9 finished with value: 44.99620238400384 and parameters: {'classifier': 'RandomForestRegressor', 'n_estimators': 661}. Best is trial 0 with value: 44.60000564522882.\n"
          ]
        },
        {
          "output_type": "stream",
          "name": "stdout",
          "text": [
            "\n",
            "-----------\n",
            "\n"
          ]
        },
        {
          "output_type": "stream",
          "name": "stdout",
          "text": [
            "/opt/conda/lib/python3.10/site-packages/mlflow/models/signature.py:212: UserWarning:\n",
            "\n",
            "Hint: Inferred schema contains integer column(s). Integer columns in Python cannot represent missing values. If your input data contains missing values at inference time, it will be encoded as floats and will cause a schema enforcement error. The best way to avoid this problem is to infer the model schema based on a realistic data sample (training dataset) that includes missing values. Alternatively, you can declare integer columns as doubles (float64) whenever these columns may have missing values. See `Handling Integers With Missing Values <https://www.mlflow.org/docs/latest/models.html#handling-integers-with-missing-values>`_ for more details.\n",
            "\n",
            "/opt/conda/lib/python3.10/site-packages/_distutils_hack/__init__.py:18: UserWarning:\n",
            "\n",
            "Distutils was imported before Setuptools, but importing Setuptools also replaces the `distutils` module in `sys.modules`. This may lead to undesirable behaviors or errors. To avoid these issues, avoid using distutils directly, ensure that setuptools is installed in the traditional way (e.g. not an editable install), and/or make sure that setuptools is always imported before distutils.\n",
            "\n",
            "/opt/conda/lib/python3.10/site-packages/_distutils_hack/__init__.py:33: UserWarning:\n",
            "\n",
            "Setuptools is replacing distutils.\n",
            "\n",
            "Registered model 'sk-learn-random-forest-reg-model' already exists. Creating a new version of this model...\n",
            "2023/11/26 18:40:46 INFO mlflow.store.model_registry.abstract_store: Waiting up to 300 seconds for model version to finish creation. Model name: sk-learn-random-forest-reg-model, version 48\n",
            "Created version '48' of model 'sk-learn-random-forest-reg-model'.\n",
            "[I 2023-11-26 18:40:47,032] Trial 10 finished with value: 46.17391430685408 and parameters: {'classifier': 'RandomForestRegressor', 'n_estimators': 132}. Best is trial 0 with value: 44.60000564522882.\n"
          ]
        },
        {
          "output_type": "stream",
          "name": "stdout",
          "text": [
            "\n",
            "-----------\n",
            "\n"
          ]
        },
        {
          "output_type": "stream",
          "name": "stdout",
          "text": [
            "/opt/conda/lib/python3.10/site-packages/mlflow/models/signature.py:212: UserWarning:\n",
            "\n",
            "Hint: Inferred schema contains integer column(s). Integer columns in Python cannot represent missing values. If your input data contains missing values at inference time, it will be encoded as floats and will cause a schema enforcement error. The best way to avoid this problem is to infer the model schema based on a realistic data sample (training dataset) that includes missing values. Alternatively, you can declare integer columns as doubles (float64) whenever these columns may have missing values. See `Handling Integers With Missing Values <https://www.mlflow.org/docs/latest/models.html#handling-integers-with-missing-values>`_ for more details.\n",
            "\n",
            "/opt/conda/lib/python3.10/site-packages/_distutils_hack/__init__.py:18: UserWarning:\n",
            "\n",
            "Distutils was imported before Setuptools, but importing Setuptools also replaces the `distutils` module in `sys.modules`. This may lead to undesirable behaviors or errors. To avoid these issues, avoid using distutils directly, ensure that setuptools is installed in the traditional way (e.g. not an editable install), and/or make sure that setuptools is always imported before distutils.\n",
            "\n",
            "/opt/conda/lib/python3.10/site-packages/_distutils_hack/__init__.py:33: UserWarning:\n",
            "\n",
            "Setuptools is replacing distutils.\n",
            "\n",
            "Registered model 'sk-learn-random-forest-reg-model' already exists. Creating a new version of this model...\n",
            "2023/11/26 18:40:59 INFO mlflow.store.model_registry.abstract_store: Waiting up to 300 seconds for model version to finish creation. Model name: sk-learn-random-forest-reg-model, version 49\n",
            "Created version '49' of model 'sk-learn-random-forest-reg-model'.\n",
            "[I 2023-11-26 18:40:59,828] Trial 11 finished with value: 44.79661023246091 and parameters: {'classifier': 'RandomForestRegressor', 'n_estimators': 806}. Best is trial 0 with value: 44.60000564522882.\n"
          ]
        },
        {
          "output_type": "stream",
          "name": "stdout",
          "text": [
            "\n",
            "-----------\n",
            "\n"
          ]
        },
        {
          "output_type": "stream",
          "name": "stdout",
          "text": [
            "/opt/conda/lib/python3.10/site-packages/mlflow/models/signature.py:212: UserWarning:\n",
            "\n",
            "Hint: Inferred schema contains integer column(s). Integer columns in Python cannot represent missing values. If your input data contains missing values at inference time, it will be encoded as floats and will cause a schema enforcement error. The best way to avoid this problem is to infer the model schema based on a realistic data sample (training dataset) that includes missing values. Alternatively, you can declare integer columns as doubles (float64) whenever these columns may have missing values. See `Handling Integers With Missing Values <https://www.mlflow.org/docs/latest/models.html#handling-integers-with-missing-values>`_ for more details.\n",
            "\n",
            "/opt/conda/lib/python3.10/site-packages/_distutils_hack/__init__.py:18: UserWarning:\n",
            "\n",
            "Distutils was imported before Setuptools, but importing Setuptools also replaces the `distutils` module in `sys.modules`. This may lead to undesirable behaviors or errors. To avoid these issues, avoid using distutils directly, ensure that setuptools is installed in the traditional way (e.g. not an editable install), and/or make sure that setuptools is always imported before distutils.\n",
            "\n",
            "/opt/conda/lib/python3.10/site-packages/_distutils_hack/__init__.py:33: UserWarning:\n",
            "\n",
            "Setuptools is replacing distutils.\n",
            "\n",
            "Registered model 'sk-learn-random-forest-reg-model' already exists. Creating a new version of this model...\n",
            "2023/11/26 18:41:10 INFO mlflow.store.model_registry.abstract_store: Waiting up to 300 seconds for model version to finish creation. Model name: sk-learn-random-forest-reg-model, version 50\n",
            "Created version '50' of model 'sk-learn-random-forest-reg-model'.\n",
            "[I 2023-11-26 18:41:10,410] Trial 12 finished with value: 44.51435265563468 and parameters: {'classifier': 'RandomForestRegressor', 'n_estimators': 347}. Best is trial 12 with value: 44.51435265563468.\n"
          ]
        },
        {
          "output_type": "stream",
          "name": "stdout",
          "text": [
            "\n",
            "-----------\n",
            "\n"
          ]
        },
        {
          "output_type": "stream",
          "name": "stdout",
          "text": [
            "/opt/conda/lib/python3.10/site-packages/mlflow/models/signature.py:212: UserWarning:\n",
            "\n",
            "Hint: Inferred schema contains integer column(s). Integer columns in Python cannot represent missing values. If your input data contains missing values at inference time, it will be encoded as floats and will cause a schema enforcement error. The best way to avoid this problem is to infer the model schema based on a realistic data sample (training dataset) that includes missing values. Alternatively, you can declare integer columns as doubles (float64) whenever these columns may have missing values. See `Handling Integers With Missing Values <https://www.mlflow.org/docs/latest/models.html#handling-integers-with-missing-values>`_ for more details.\n",
            "\n",
            "/opt/conda/lib/python3.10/site-packages/_distutils_hack/__init__.py:18: UserWarning:\n",
            "\n",
            "Distutils was imported before Setuptools, but importing Setuptools also replaces the `distutils` module in `sys.modules`. This may lead to undesirable behaviors or errors. To avoid these issues, avoid using distutils directly, ensure that setuptools is installed in the traditional way (e.g. not an editable install), and/or make sure that setuptools is always imported before distutils.\n",
            "\n",
            "/opt/conda/lib/python3.10/site-packages/_distutils_hack/__init__.py:33: UserWarning:\n",
            "\n",
            "Setuptools is replacing distutils.\n",
            "\n",
            "Registered model 'sk-learn-random-forest-reg-model' already exists. Creating a new version of this model...\n",
            "2023/11/26 18:41:20 INFO mlflow.store.model_registry.abstract_store: Waiting up to 300 seconds for model version to finish creation. Model name: sk-learn-random-forest-reg-model, version 51\n",
            "Created version '51' of model 'sk-learn-random-forest-reg-model'.\n",
            "[I 2023-11-26 18:41:20,432] Trial 13 finished with value: 45.309070049435114 and parameters: {'classifier': 'RandomForestRegressor', 'n_estimators': 235}. Best is trial 12 with value: 44.51435265563468.\n"
          ]
        },
        {
          "output_type": "stream",
          "name": "stdout",
          "text": [
            "\n",
            "-----------\n",
            "\n"
          ]
        },
        {
          "output_type": "stream",
          "name": "stdout",
          "text": [
            "/opt/conda/lib/python3.10/site-packages/mlflow/models/signature.py:212: UserWarning:\n",
            "\n",
            "Hint: Inferred schema contains integer column(s). Integer columns in Python cannot represent missing values. If your input data contains missing values at inference time, it will be encoded as floats and will cause a schema enforcement error. The best way to avoid this problem is to infer the model schema based on a realistic data sample (training dataset) that includes missing values. Alternatively, you can declare integer columns as doubles (float64) whenever these columns may have missing values. See `Handling Integers With Missing Values <https://www.mlflow.org/docs/latest/models.html#handling-integers-with-missing-values>`_ for more details.\n",
            "\n",
            "/opt/conda/lib/python3.10/site-packages/_distutils_hack/__init__.py:18: UserWarning:\n",
            "\n",
            "Distutils was imported before Setuptools, but importing Setuptools also replaces the `distutils` module in `sys.modules`. This may lead to undesirable behaviors or errors. To avoid these issues, avoid using distutils directly, ensure that setuptools is installed in the traditional way (e.g. not an editable install), and/or make sure that setuptools is always imported before distutils.\n",
            "\n",
            "/opt/conda/lib/python3.10/site-packages/_distutils_hack/__init__.py:33: UserWarning:\n",
            "\n",
            "Setuptools is replacing distutils.\n",
            "\n",
            "Registered model 'sk-learn-random-forest-reg-model' already exists. Creating a new version of this model...\n",
            "2023/11/26 18:41:31 INFO mlflow.store.model_registry.abstract_store: Waiting up to 300 seconds for model version to finish creation. Model name: sk-learn-random-forest-reg-model, version 52\n",
            "Created version '52' of model 'sk-learn-random-forest-reg-model'.\n",
            "[I 2023-11-26 18:41:31,467] Trial 14 finished with value: 45.26338019559519 and parameters: {'classifier': 'RandomForestRegressor', 'n_estimators': 430}. Best is trial 12 with value: 44.51435265563468.\n"
          ]
        },
        {
          "output_type": "stream",
          "name": "stdout",
          "text": [
            "\n",
            "-----------\n",
            "\n"
          ]
        },
        {
          "output_type": "stream",
          "name": "stdout",
          "text": [
            "/opt/conda/lib/python3.10/site-packages/mlflow/models/signature.py:212: UserWarning:\n",
            "\n",
            "Hint: Inferred schema contains integer column(s). Integer columns in Python cannot represent missing values. If your input data contains missing values at inference time, it will be encoded as floats and will cause a schema enforcement error. The best way to avoid this problem is to infer the model schema based on a realistic data sample (training dataset) that includes missing values. Alternatively, you can declare integer columns as doubles (float64) whenever these columns may have missing values. See `Handling Integers With Missing Values <https://www.mlflow.org/docs/latest/models.html#handling-integers-with-missing-values>`_ for more details.\n",
            "\n",
            "/opt/conda/lib/python3.10/site-packages/_distutils_hack/__init__.py:18: UserWarning:\n",
            "\n",
            "Distutils was imported before Setuptools, but importing Setuptools also replaces the `distutils` module in `sys.modules`. This may lead to undesirable behaviors or errors. To avoid these issues, avoid using distutils directly, ensure that setuptools is installed in the traditional way (e.g. not an editable install), and/or make sure that setuptools is always imported before distutils.\n",
            "\n",
            "/opt/conda/lib/python3.10/site-packages/_distutils_hack/__init__.py:33: UserWarning:\n",
            "\n",
            "Setuptools is replacing distutils.\n",
            "\n",
            "Registered model 'sk-learn-random-forest-reg-model' already exists. Creating a new version of this model...\n",
            "2023/11/26 18:41:41 INFO mlflow.store.model_registry.abstract_store: Waiting up to 300 seconds for model version to finish creation. Model name: sk-learn-random-forest-reg-model, version 53\n",
            "Created version '53' of model 'sk-learn-random-forest-reg-model'.\n",
            "[I 2023-11-26 18:41:42,014] Trial 15 finished with value: 44.82138509928641 and parameters: {'classifier': 'RandomForestRegressor', 'n_estimators': 329}. Best is trial 12 with value: 44.51435265563468.\n"
          ]
        },
        {
          "output_type": "stream",
          "name": "stdout",
          "text": [
            "\n",
            "-----------\n",
            "\n"
          ]
        },
        {
          "output_type": "stream",
          "name": "stdout",
          "text": [
            "/opt/conda/lib/python3.10/site-packages/mlflow/models/signature.py:212: UserWarning:\n",
            "\n",
            "Hint: Inferred schema contains integer column(s). Integer columns in Python cannot represent missing values. If your input data contains missing values at inference time, it will be encoded as floats and will cause a schema enforcement error. The best way to avoid this problem is to infer the model schema based on a realistic data sample (training dataset) that includes missing values. Alternatively, you can declare integer columns as doubles (float64) whenever these columns may have missing values. See `Handling Integers With Missing Values <https://www.mlflow.org/docs/latest/models.html#handling-integers-with-missing-values>`_ for more details.\n",
            "\n",
            "/opt/conda/lib/python3.10/site-packages/_distutils_hack/__init__.py:18: UserWarning:\n",
            "\n",
            "Distutils was imported before Setuptools, but importing Setuptools also replaces the `distutils` module in `sys.modules`. This may lead to undesirable behaviors or errors. To avoid these issues, avoid using distutils directly, ensure that setuptools is installed in the traditional way (e.g. not an editable install), and/or make sure that setuptools is always imported before distutils.\n",
            "\n",
            "/opt/conda/lib/python3.10/site-packages/_distutils_hack/__init__.py:33: UserWarning:\n",
            "\n",
            "Setuptools is replacing distutils.\n",
            "\n",
            "Registered model 'sk-learn-random-forest-reg-model' already exists. Creating a new version of this model...\n",
            "2023/11/26 18:41:51 INFO mlflow.store.model_registry.abstract_store: Waiting up to 300 seconds for model version to finish creation. Model name: sk-learn-random-forest-reg-model, version 54\n",
            "Created version '54' of model 'sk-learn-random-forest-reg-model'.\n",
            "[I 2023-11-26 18:41:51,419] Trial 16 finished with value: 44.435061677682725 and parameters: {'classifier': 'RandomForestRegressor', 'n_estimators': 129}. Best is trial 16 with value: 44.435061677682725.\n"
          ]
        },
        {
          "output_type": "stream",
          "name": "stdout",
          "text": [
            "\n",
            "-----------\n",
            "\n"
          ]
        },
        {
          "output_type": "stream",
          "name": "stdout",
          "text": [
            "/opt/conda/lib/python3.10/site-packages/mlflow/models/signature.py:212: UserWarning:\n",
            "\n",
            "Hint: Inferred schema contains integer column(s). Integer columns in Python cannot represent missing values. If your input data contains missing values at inference time, it will be encoded as floats and will cause a schema enforcement error. The best way to avoid this problem is to infer the model schema based on a realistic data sample (training dataset) that includes missing values. Alternatively, you can declare integer columns as doubles (float64) whenever these columns may have missing values. See `Handling Integers With Missing Values <https://www.mlflow.org/docs/latest/models.html#handling-integers-with-missing-values>`_ for more details.\n",
            "\n",
            "/opt/conda/lib/python3.10/site-packages/_distutils_hack/__init__.py:18: UserWarning:\n",
            "\n",
            "Distutils was imported before Setuptools, but importing Setuptools also replaces the `distutils` module in `sys.modules`. This may lead to undesirable behaviors or errors. To avoid these issues, avoid using distutils directly, ensure that setuptools is installed in the traditional way (e.g. not an editable install), and/or make sure that setuptools is always imported before distutils.\n",
            "\n",
            "/opt/conda/lib/python3.10/site-packages/_distutils_hack/__init__.py:33: UserWarning:\n",
            "\n",
            "Setuptools is replacing distutils.\n",
            "\n",
            "Registered model 'sk-learn-random-forest-reg-model' already exists. Creating a new version of this model...\n",
            "2023/11/26 18:42:00 INFO mlflow.store.model_registry.abstract_store: Waiting up to 300 seconds for model version to finish creation. Model name: sk-learn-random-forest-reg-model, version 55\n",
            "Created version '55' of model 'sk-learn-random-forest-reg-model'.\n",
            "[I 2023-11-26 18:42:00,351] Trial 17 finished with value: 45.07272192259961 and parameters: {'classifier': 'RandomForestRegressor', 'n_estimators': 51}. Best is trial 16 with value: 44.435061677682725.\n"
          ]
        },
        {
          "output_type": "stream",
          "name": "stdout",
          "text": [
            "\n",
            "-----------\n",
            "\n"
          ]
        },
        {
          "output_type": "stream",
          "name": "stdout",
          "text": [
            "/opt/conda/lib/python3.10/site-packages/mlflow/models/signature.py:212: UserWarning:\n",
            "\n",
            "Hint: Inferred schema contains integer column(s). Integer columns in Python cannot represent missing values. If your input data contains missing values at inference time, it will be encoded as floats and will cause a schema enforcement error. The best way to avoid this problem is to infer the model schema based on a realistic data sample (training dataset) that includes missing values. Alternatively, you can declare integer columns as doubles (float64) whenever these columns may have missing values. See `Handling Integers With Missing Values <https://www.mlflow.org/docs/latest/models.html#handling-integers-with-missing-values>`_ for more details.\n",
            "\n",
            "/opt/conda/lib/python3.10/site-packages/_distutils_hack/__init__.py:18: UserWarning:\n",
            "\n",
            "Distutils was imported before Setuptools, but importing Setuptools also replaces the `distutils` module in `sys.modules`. This may lead to undesirable behaviors or errors. To avoid these issues, avoid using distutils directly, ensure that setuptools is installed in the traditional way (e.g. not an editable install), and/or make sure that setuptools is always imported before distutils.\n",
            "\n",
            "/opt/conda/lib/python3.10/site-packages/_distutils_hack/__init__.py:33: UserWarning:\n",
            "\n",
            "Setuptools is replacing distutils.\n",
            "\n",
            "Registered model 'sk-learn-gradient-boosting-reg-model' already exists. Creating a new version of this model...\n",
            "2023/11/26 18:42:09 INFO mlflow.store.model_registry.abstract_store: Waiting up to 300 seconds for model version to finish creation. Model name: sk-learn-gradient-boosting-reg-model, version 61\n",
            "Created version '61' of model 'sk-learn-gradient-boosting-reg-model'.\n",
            "[I 2023-11-26 18:42:09,444] Trial 18 finished with value: 62.291244087227774 and parameters: {'classifier': 'GradientBoostingRegressor', 'n_estimators': 190, 'subsample': 0.1693881688131449}. Best is trial 16 with value: 44.435061677682725.\n"
          ]
        },
        {
          "output_type": "stream",
          "name": "stdout",
          "text": [
            "\n",
            "-----------\n",
            "\n"
          ]
        },
        {
          "output_type": "stream",
          "name": "stdout",
          "text": [
            "/opt/conda/lib/python3.10/site-packages/mlflow/models/signature.py:212: UserWarning:\n",
            "\n",
            "Hint: Inferred schema contains integer column(s). Integer columns in Python cannot represent missing values. If your input data contains missing values at inference time, it will be encoded as floats and will cause a schema enforcement error. The best way to avoid this problem is to infer the model schema based on a realistic data sample (training dataset) that includes missing values. Alternatively, you can declare integer columns as doubles (float64) whenever these columns may have missing values. See `Handling Integers With Missing Values <https://www.mlflow.org/docs/latest/models.html#handling-integers-with-missing-values>`_ for more details.\n",
            "\n",
            "/opt/conda/lib/python3.10/site-packages/_distutils_hack/__init__.py:18: UserWarning:\n",
            "\n",
            "Distutils was imported before Setuptools, but importing Setuptools also replaces the `distutils` module in `sys.modules`. This may lead to undesirable behaviors or errors. To avoid these issues, avoid using distutils directly, ensure that setuptools is installed in the traditional way (e.g. not an editable install), and/or make sure that setuptools is always imported before distutils.\n",
            "\n",
            "/opt/conda/lib/python3.10/site-packages/_distutils_hack/__init__.py:33: UserWarning:\n",
            "\n",
            "Setuptools is replacing distutils.\n",
            "\n",
            "Registered model 'sk-learn-random-forest-reg-model' already exists. Creating a new version of this model...\n",
            "2023/11/26 18:42:18 INFO mlflow.store.model_registry.abstract_store: Waiting up to 300 seconds for model version to finish creation. Model name: sk-learn-random-forest-reg-model, version 56\n",
            "Created version '56' of model 'sk-learn-random-forest-reg-model'.\n",
            "[I 2023-11-26 18:42:18,529] Trial 19 finished with value: 46.79716316034019 and parameters: {'classifier': 'RandomForestRegressor', 'n_estimators': 63}. Best is trial 16 with value: 44.435061677682725.\n"
          ]
        },
        {
          "output_type": "stream",
          "name": "stdout",
          "text": [
            "\n",
            "-----------\n",
            "\n"
          ]
        }
      ],
      "execution_count": 221,
      "metadata": {
        "execution": {
          "iopub.status.busy": "2023-11-26T18:38:45.325085Z",
          "iopub.execute_input": "2023-11-26T18:38:45.325569Z",
          "iopub.status.idle": "2023-11-26T18:42:18.533624Z",
          "shell.execute_reply.started": "2023-11-26T18:38:45.325528Z",
          "shell.execute_reply": "2023-11-26T18:42:18.532855Z"
        },
        "trusted": true,
        "noteable": {}
      },
      "id": "6c24ab2d"
    },
    {
      "cell_type": "markdown",
      "source": [
        "# 5. Optuna results"
      ],
      "metadata": {},
      "id": "5f5d06aa"
    },
    {
      "cell_type": "code",
      "source": [
        "print(study.best_trial.params)\n",
        "\n",
        "print(\"Best rmse obtained : \", study.best_trial.value)"
      ],
      "outputs": [
        {
          "output_type": "stream",
          "name": "stdout",
          "text": [
            "{'classifier': 'RandomForestRegressor', 'n_estimators': 129}\n",
            "Best rmse obtained :  44.435061677682725\n"
          ]
        }
      ],
      "execution_count": 222,
      "metadata": {
        "execution": {
          "iopub.status.busy": "2023-11-26T18:42:18.534880Z",
          "iopub.execute_input": "2023-11-26T18:42:18.535767Z",
          "iopub.status.idle": "2023-11-26T18:42:18.541825Z",
          "shell.execute_reply.started": "2023-11-26T18:42:18.535734Z",
          "shell.execute_reply": "2023-11-26T18:42:18.540698Z"
        },
        "trusted": true,
        "noteable": {}
      },
      "id": "27891eff"
    },
    {
      "cell_type": "code",
      "source": [
        "fig = optuna.visualization.plot_optimization_history(study)\n",
        "fig.show()"
      ],
      "outputs": [
        {
          "output_type": "display_data",
          "data": {
            "text/html": "<div>                            <div id=\"66ac964c-ffbd-44f3-a33b-97559b19577e\" class=\"plotly-graph-div\" style=\"height:525px; width:100%;\"></div>            <script type=\"text/javascript\">                require([\"plotly\"], function(Plotly) {                    window.PLOTLYENV=window.PLOTLYENV || {};                                    if (document.getElementById(\"66ac964c-ffbd-44f3-a33b-97559b19577e\")) {                    Plotly.newPlot(                        \"66ac964c-ffbd-44f3-a33b-97559b19577e\",                        [{\"mode\":\"markers\",\"name\":\"Objective Value\",\"x\":[0,1,2,3,4,5,6,7,8,9,10,11,12,13,14,15,16,17,18,19],\"y\":[44.60000564522882,58.11263994356859,50.267227852085114,53.39506034644788,45.15076637401884,44.66437980022255,44.944791757765934,45.368548501330295,50.604015294095504,44.99620238400384,46.17391430685408,44.79661023246091,44.51435265563468,45.309070049435114,45.26338019559519,44.82138509928641,44.435061677682725,45.07272192259961,62.291244087227774,46.79716316034019],\"type\":\"scatter\"},{\"mode\":\"lines\",\"name\":\"Best Value\",\"x\":[0,1,2,3,4,5,6,7,8,9,10,11,12,13,14,15,16,17,18,19],\"y\":[44.60000564522882,44.60000564522882,44.60000564522882,44.60000564522882,44.60000564522882,44.60000564522882,44.60000564522882,44.60000564522882,44.60000564522882,44.60000564522882,44.60000564522882,44.60000564522882,44.51435265563468,44.51435265563468,44.51435265563468,44.51435265563468,44.435061677682725,44.435061677682725,44.435061677682725,44.435061677682725],\"type\":\"scatter\"},{\"marker\":{\"color\":\"#cccccc\"},\"mode\":\"markers\",\"name\":\"Infeasible Trial\",\"showlegend\":false,\"x\":[],\"y\":[],\"type\":\"scatter\"}],                        {\"title\":{\"text\":\"Optimization History Plot\"},\"xaxis\":{\"title\":{\"text\":\"Trial\"}},\"yaxis\":{\"title\":{\"text\":\"Objective Value\"}},\"template\":{\"data\":{\"histogram2dcontour\":[{\"type\":\"histogram2dcontour\",\"colorbar\":{\"outlinewidth\":0,\"ticks\":\"\"},\"colorscale\":[[0.0,\"#0d0887\"],[0.1111111111111111,\"#46039f\"],[0.2222222222222222,\"#7201a8\"],[0.3333333333333333,\"#9c179e\"],[0.4444444444444444,\"#bd3786\"],[0.5555555555555556,\"#d8576b\"],[0.6666666666666666,\"#ed7953\"],[0.7777777777777778,\"#fb9f3a\"],[0.8888888888888888,\"#fdca26\"],[1.0,\"#f0f921\"]]}],\"choropleth\":[{\"type\":\"choropleth\",\"colorbar\":{\"outlinewidth\":0,\"ticks\":\"\"}}],\"histogram2d\":[{\"type\":\"histogram2d\",\"colorbar\":{\"outlinewidth\":0,\"ticks\":\"\"},\"colorscale\":[[0.0,\"#0d0887\"],[0.1111111111111111,\"#46039f\"],[0.2222222222222222,\"#7201a8\"],[0.3333333333333333,\"#9c179e\"],[0.4444444444444444,\"#bd3786\"],[0.5555555555555556,\"#d8576b\"],[0.6666666666666666,\"#ed7953\"],[0.7777777777777778,\"#fb9f3a\"],[0.8888888888888888,\"#fdca26\"],[1.0,\"#f0f921\"]]}],\"heatmap\":[{\"type\":\"heatmap\",\"colorbar\":{\"outlinewidth\":0,\"ticks\":\"\"},\"colorscale\":[[0.0,\"#0d0887\"],[0.1111111111111111,\"#46039f\"],[0.2222222222222222,\"#7201a8\"],[0.3333333333333333,\"#9c179e\"],[0.4444444444444444,\"#bd3786\"],[0.5555555555555556,\"#d8576b\"],[0.6666666666666666,\"#ed7953\"],[0.7777777777777778,\"#fb9f3a\"],[0.8888888888888888,\"#fdca26\"],[1.0,\"#f0f921\"]]}],\"heatmapgl\":[{\"type\":\"heatmapgl\",\"colorbar\":{\"outlinewidth\":0,\"ticks\":\"\"},\"colorscale\":[[0.0,\"#0d0887\"],[0.1111111111111111,\"#46039f\"],[0.2222222222222222,\"#7201a8\"],[0.3333333333333333,\"#9c179e\"],[0.4444444444444444,\"#bd3786\"],[0.5555555555555556,\"#d8576b\"],[0.6666666666666666,\"#ed7953\"],[0.7777777777777778,\"#fb9f3a\"],[0.8888888888888888,\"#fdca26\"],[1.0,\"#f0f921\"]]}],\"contourcarpet\":[{\"type\":\"contourcarpet\",\"colorbar\":{\"outlinewidth\":0,\"ticks\":\"\"}}],\"contour\":[{\"type\":\"contour\",\"colorbar\":{\"outlinewidth\":0,\"ticks\":\"\"},\"colorscale\":[[0.0,\"#0d0887\"],[0.1111111111111111,\"#46039f\"],[0.2222222222222222,\"#7201a8\"],[0.3333333333333333,\"#9c179e\"],[0.4444444444444444,\"#bd3786\"],[0.5555555555555556,\"#d8576b\"],[0.6666666666666666,\"#ed7953\"],[0.7777777777777778,\"#fb9f3a\"],[0.8888888888888888,\"#fdca26\"],[1.0,\"#f0f921\"]]}],\"surface\":[{\"type\":\"surface\",\"colorbar\":{\"outlinewidth\":0,\"ticks\":\"\"},\"colorscale\":[[0.0,\"#0d0887\"],[0.1111111111111111,\"#46039f\"],[0.2222222222222222,\"#7201a8\"],[0.3333333333333333,\"#9c179e\"],[0.4444444444444444,\"#bd3786\"],[0.5555555555555556,\"#d8576b\"],[0.6666666666666666,\"#ed7953\"],[0.7777777777777778,\"#fb9f3a\"],[0.8888888888888888,\"#fdca26\"],[1.0,\"#f0f921\"]]}],\"mesh3d\":[{\"type\":\"mesh3d\",\"colorbar\":{\"outlinewidth\":0,\"ticks\":\"\"}}],\"scatter\":[{\"fillpattern\":{\"fillmode\":\"overlay\",\"size\":10,\"solidity\":0.2},\"type\":\"scatter\"}],\"parcoords\":[{\"type\":\"parcoords\",\"line\":{\"colorbar\":{\"outlinewidth\":0,\"ticks\":\"\"}}}],\"scatterpolargl\":[{\"type\":\"scatterpolargl\",\"marker\":{\"colorbar\":{\"outlinewidth\":0,\"ticks\":\"\"}}}],\"bar\":[{\"error_x\":{\"color\":\"#2a3f5f\"},\"error_y\":{\"color\":\"#2a3f5f\"},\"marker\":{\"line\":{\"color\":\"#E5ECF6\",\"width\":0.5},\"pattern\":{\"fillmode\":\"overlay\",\"size\":10,\"solidity\":0.2}},\"type\":\"bar\"}],\"scattergeo\":[{\"type\":\"scattergeo\",\"marker\":{\"colorbar\":{\"outlinewidth\":0,\"ticks\":\"\"}}}],\"scatterpolar\":[{\"type\":\"scatterpolar\",\"marker\":{\"colorbar\":{\"outlinewidth\":0,\"ticks\":\"\"}}}],\"histogram\":[{\"marker\":{\"pattern\":{\"fillmode\":\"overlay\",\"size\":10,\"solidity\":0.2}},\"type\":\"histogram\"}],\"scattergl\":[{\"type\":\"scattergl\",\"marker\":{\"colorbar\":{\"outlinewidth\":0,\"ticks\":\"\"}}}],\"scatter3d\":[{\"type\":\"scatter3d\",\"line\":{\"colorbar\":{\"outlinewidth\":0,\"ticks\":\"\"}},\"marker\":{\"colorbar\":{\"outlinewidth\":0,\"ticks\":\"\"}}}],\"scattermapbox\":[{\"type\":\"scattermapbox\",\"marker\":{\"colorbar\":{\"outlinewidth\":0,\"ticks\":\"\"}}}],\"scatterternary\":[{\"type\":\"scatterternary\",\"marker\":{\"colorbar\":{\"outlinewidth\":0,\"ticks\":\"\"}}}],\"scattercarpet\":[{\"type\":\"scattercarpet\",\"marker\":{\"colorbar\":{\"outlinewidth\":0,\"ticks\":\"\"}}}],\"carpet\":[{\"aaxis\":{\"endlinecolor\":\"#2a3f5f\",\"gridcolor\":\"white\",\"linecolor\":\"white\",\"minorgridcolor\":\"white\",\"startlinecolor\":\"#2a3f5f\"},\"baxis\":{\"endlinecolor\":\"#2a3f5f\",\"gridcolor\":\"white\",\"linecolor\":\"white\",\"minorgridcolor\":\"white\",\"startlinecolor\":\"#2a3f5f\"},\"type\":\"carpet\"}],\"table\":[{\"cells\":{\"fill\":{\"color\":\"#EBF0F8\"},\"line\":{\"color\":\"white\"}},\"header\":{\"fill\":{\"color\":\"#C8D4E3\"},\"line\":{\"color\":\"white\"}},\"type\":\"table\"}],\"barpolar\":[{\"marker\":{\"line\":{\"color\":\"#E5ECF6\",\"width\":0.5},\"pattern\":{\"fillmode\":\"overlay\",\"size\":10,\"solidity\":0.2}},\"type\":\"barpolar\"}],\"pie\":[{\"automargin\":true,\"type\":\"pie\"}]},\"layout\":{\"autotypenumbers\":\"strict\",\"colorway\":[\"#636efa\",\"#EF553B\",\"#00cc96\",\"#ab63fa\",\"#FFA15A\",\"#19d3f3\",\"#FF6692\",\"#B6E880\",\"#FF97FF\",\"#FECB52\"],\"font\":{\"color\":\"#2a3f5f\"},\"hovermode\":\"closest\",\"hoverlabel\":{\"align\":\"left\"},\"paper_bgcolor\":\"white\",\"plot_bgcolor\":\"#E5ECF6\",\"polar\":{\"bgcolor\":\"#E5ECF6\",\"angularaxis\":{\"gridcolor\":\"white\",\"linecolor\":\"white\",\"ticks\":\"\"},\"radialaxis\":{\"gridcolor\":\"white\",\"linecolor\":\"white\",\"ticks\":\"\"}},\"ternary\":{\"bgcolor\":\"#E5ECF6\",\"aaxis\":{\"gridcolor\":\"white\",\"linecolor\":\"white\",\"ticks\":\"\"},\"baxis\":{\"gridcolor\":\"white\",\"linecolor\":\"white\",\"ticks\":\"\"},\"caxis\":{\"gridcolor\":\"white\",\"linecolor\":\"white\",\"ticks\":\"\"}},\"coloraxis\":{\"colorbar\":{\"outlinewidth\":0,\"ticks\":\"\"}},\"colorscale\":{\"sequential\":[[0.0,\"#0d0887\"],[0.1111111111111111,\"#46039f\"],[0.2222222222222222,\"#7201a8\"],[0.3333333333333333,\"#9c179e\"],[0.4444444444444444,\"#bd3786\"],[0.5555555555555556,\"#d8576b\"],[0.6666666666666666,\"#ed7953\"],[0.7777777777777778,\"#fb9f3a\"],[0.8888888888888888,\"#fdca26\"],[1.0,\"#f0f921\"]],\"sequentialminus\":[[0.0,\"#0d0887\"],[0.1111111111111111,\"#46039f\"],[0.2222222222222222,\"#7201a8\"],[0.3333333333333333,\"#9c179e\"],[0.4444444444444444,\"#bd3786\"],[0.5555555555555556,\"#d8576b\"],[0.6666666666666666,\"#ed7953\"],[0.7777777777777778,\"#fb9f3a\"],[0.8888888888888888,\"#fdca26\"],[1.0,\"#f0f921\"]],\"diverging\":[[0,\"#8e0152\"],[0.1,\"#c51b7d\"],[0.2,\"#de77ae\"],[0.3,\"#f1b6da\"],[0.4,\"#fde0ef\"],[0.5,\"#f7f7f7\"],[0.6,\"#e6f5d0\"],[0.7,\"#b8e186\"],[0.8,\"#7fbc41\"],[0.9,\"#4d9221\"],[1,\"#276419\"]]},\"xaxis\":{\"gridcolor\":\"white\",\"linecolor\":\"white\",\"ticks\":\"\",\"title\":{\"standoff\":15},\"zerolinecolor\":\"white\",\"automargin\":true,\"zerolinewidth\":2},\"yaxis\":{\"gridcolor\":\"white\",\"linecolor\":\"white\",\"ticks\":\"\",\"title\":{\"standoff\":15},\"zerolinecolor\":\"white\",\"automargin\":true,\"zerolinewidth\":2},\"scene\":{\"xaxis\":{\"backgroundcolor\":\"#E5ECF6\",\"gridcolor\":\"white\",\"linecolor\":\"white\",\"showbackground\":true,\"ticks\":\"\",\"zerolinecolor\":\"white\",\"gridwidth\":2},\"yaxis\":{\"backgroundcolor\":\"#E5ECF6\",\"gridcolor\":\"white\",\"linecolor\":\"white\",\"showbackground\":true,\"ticks\":\"\",\"zerolinecolor\":\"white\",\"gridwidth\":2},\"zaxis\":{\"backgroundcolor\":\"#E5ECF6\",\"gridcolor\":\"white\",\"linecolor\":\"white\",\"showbackground\":true,\"ticks\":\"\",\"zerolinecolor\":\"white\",\"gridwidth\":2}},\"shapedefaults\":{\"line\":{\"color\":\"#2a3f5f\"}},\"annotationdefaults\":{\"arrowcolor\":\"#2a3f5f\",\"arrowhead\":0,\"arrowwidth\":1},\"geo\":{\"bgcolor\":\"white\",\"landcolor\":\"#E5ECF6\",\"subunitcolor\":\"white\",\"showland\":true,\"showlakes\":true,\"lakecolor\":\"white\"},\"title\":{\"x\":0.05},\"mapbox\":{\"style\":\"light\"}}}},                        {\"responsive\": true}                    ).then(function(){\n                            \nvar gd = document.getElementById('66ac964c-ffbd-44f3-a33b-97559b19577e');\nvar x = new MutationObserver(function (mutations, observer) {{\n        var display = window.getComputedStyle(gd).display;\n        if (!display || display === 'none') {{\n            console.log([gd, 'removed!']);\n            Plotly.purge(gd);\n            observer.disconnect();\n        }}\n}});\n\n// Listen for the removal of the full notebook cells\nvar notebookContainer = gd.closest('#notebook-container');\nif (notebookContainer) {{\n    x.observe(notebookContainer, {childList: true});\n}}\n\n// Listen for the clearing of the current output cell\nvar outputEl = gd.closest('.output');\nif (outputEl) {{\n    x.observe(outputEl, {childList: true});\n}}\n\n                        })                };                });            </script>        </div>"
          },
          "metadata": {}
        }
      ],
      "execution_count": 224,
      "metadata": {
        "execution": {
          "iopub.status.busy": "2023-11-26T18:43:29.718195Z",
          "iopub.execute_input": "2023-11-26T18:43:29.718683Z",
          "iopub.status.idle": "2023-11-26T18:43:29.762518Z",
          "shell.execute_reply.started": "2023-11-26T18:43:29.718613Z",
          "shell.execute_reply": "2023-11-26T18:43:29.761592Z"
        },
        "trusted": true,
        "noteable": {}
      },
      "id": "81c4f912"
    },
    {
      "cell_type": "code",
      "source": [
        "fig = optuna.visualization.plot_param_importances(study)\n",
        "fig.show()"
      ],
      "outputs": [
        {
          "output_type": "display_data",
          "data": {
            "text/html": "<div>                            <div id=\"c0171432-6740-4522-93ba-27a660a81a4d\" class=\"plotly-graph-div\" style=\"height:525px; width:100%;\"></div>            <script type=\"text/javascript\">                require([\"plotly\"], function(Plotly) {                    window.PLOTLYENV=window.PLOTLYENV || {};                                    if (document.getElementById(\"c0171432-6740-4522-93ba-27a660a81a4d\")) {                    Plotly.newPlot(                        \"c0171432-6740-4522-93ba-27a660a81a4d\",                        [{\"cliponaxis\":false,\"hovertemplate\":[\"n_estimators (IntDistribution): 0.18871843347574838\\u003cextra\\u003e\\u003c\\u002fextra\\u003e\",\"classifier (CategoricalDistribution): 0.8112815665242517\\u003cextra\\u003e\\u003c\\u002fextra\\u003e\"],\"name\":\"Objective Value\",\"orientation\":\"h\",\"text\":[\"0.19\",\"0.81\"],\"textposition\":\"outside\",\"x\":[0.18871843347574838,0.8112815665242517],\"y\":[\"n_estimators\",\"classifier\"],\"type\":\"bar\"}],                        {\"title\":{\"text\":\"Hyperparameter Importances\"},\"xaxis\":{\"title\":{\"text\":\"Hyperparameter Importance\"}},\"yaxis\":{\"title\":{\"text\":\"Hyperparameter\"}},\"template\":{\"data\":{\"histogram2dcontour\":[{\"type\":\"histogram2dcontour\",\"colorbar\":{\"outlinewidth\":0,\"ticks\":\"\"},\"colorscale\":[[0.0,\"#0d0887\"],[0.1111111111111111,\"#46039f\"],[0.2222222222222222,\"#7201a8\"],[0.3333333333333333,\"#9c179e\"],[0.4444444444444444,\"#bd3786\"],[0.5555555555555556,\"#d8576b\"],[0.6666666666666666,\"#ed7953\"],[0.7777777777777778,\"#fb9f3a\"],[0.8888888888888888,\"#fdca26\"],[1.0,\"#f0f921\"]]}],\"choropleth\":[{\"type\":\"choropleth\",\"colorbar\":{\"outlinewidth\":0,\"ticks\":\"\"}}],\"histogram2d\":[{\"type\":\"histogram2d\",\"colorbar\":{\"outlinewidth\":0,\"ticks\":\"\"},\"colorscale\":[[0.0,\"#0d0887\"],[0.1111111111111111,\"#46039f\"],[0.2222222222222222,\"#7201a8\"],[0.3333333333333333,\"#9c179e\"],[0.4444444444444444,\"#bd3786\"],[0.5555555555555556,\"#d8576b\"],[0.6666666666666666,\"#ed7953\"],[0.7777777777777778,\"#fb9f3a\"],[0.8888888888888888,\"#fdca26\"],[1.0,\"#f0f921\"]]}],\"heatmap\":[{\"type\":\"heatmap\",\"colorbar\":{\"outlinewidth\":0,\"ticks\":\"\"},\"colorscale\":[[0.0,\"#0d0887\"],[0.1111111111111111,\"#46039f\"],[0.2222222222222222,\"#7201a8\"],[0.3333333333333333,\"#9c179e\"],[0.4444444444444444,\"#bd3786\"],[0.5555555555555556,\"#d8576b\"],[0.6666666666666666,\"#ed7953\"],[0.7777777777777778,\"#fb9f3a\"],[0.8888888888888888,\"#fdca26\"],[1.0,\"#f0f921\"]]}],\"heatmapgl\":[{\"type\":\"heatmapgl\",\"colorbar\":{\"outlinewidth\":0,\"ticks\":\"\"},\"colorscale\":[[0.0,\"#0d0887\"],[0.1111111111111111,\"#46039f\"],[0.2222222222222222,\"#7201a8\"],[0.3333333333333333,\"#9c179e\"],[0.4444444444444444,\"#bd3786\"],[0.5555555555555556,\"#d8576b\"],[0.6666666666666666,\"#ed7953\"],[0.7777777777777778,\"#fb9f3a\"],[0.8888888888888888,\"#fdca26\"],[1.0,\"#f0f921\"]]}],\"contourcarpet\":[{\"type\":\"contourcarpet\",\"colorbar\":{\"outlinewidth\":0,\"ticks\":\"\"}}],\"contour\":[{\"type\":\"contour\",\"colorbar\":{\"outlinewidth\":0,\"ticks\":\"\"},\"colorscale\":[[0.0,\"#0d0887\"],[0.1111111111111111,\"#46039f\"],[0.2222222222222222,\"#7201a8\"],[0.3333333333333333,\"#9c179e\"],[0.4444444444444444,\"#bd3786\"],[0.5555555555555556,\"#d8576b\"],[0.6666666666666666,\"#ed7953\"],[0.7777777777777778,\"#fb9f3a\"],[0.8888888888888888,\"#fdca26\"],[1.0,\"#f0f921\"]]}],\"surface\":[{\"type\":\"surface\",\"colorbar\":{\"outlinewidth\":0,\"ticks\":\"\"},\"colorscale\":[[0.0,\"#0d0887\"],[0.1111111111111111,\"#46039f\"],[0.2222222222222222,\"#7201a8\"],[0.3333333333333333,\"#9c179e\"],[0.4444444444444444,\"#bd3786\"],[0.5555555555555556,\"#d8576b\"],[0.6666666666666666,\"#ed7953\"],[0.7777777777777778,\"#fb9f3a\"],[0.8888888888888888,\"#fdca26\"],[1.0,\"#f0f921\"]]}],\"mesh3d\":[{\"type\":\"mesh3d\",\"colorbar\":{\"outlinewidth\":0,\"ticks\":\"\"}}],\"scatter\":[{\"fillpattern\":{\"fillmode\":\"overlay\",\"size\":10,\"solidity\":0.2},\"type\":\"scatter\"}],\"parcoords\":[{\"type\":\"parcoords\",\"line\":{\"colorbar\":{\"outlinewidth\":0,\"ticks\":\"\"}}}],\"scatterpolargl\":[{\"type\":\"scatterpolargl\",\"marker\":{\"colorbar\":{\"outlinewidth\":0,\"ticks\":\"\"}}}],\"bar\":[{\"error_x\":{\"color\":\"#2a3f5f\"},\"error_y\":{\"color\":\"#2a3f5f\"},\"marker\":{\"line\":{\"color\":\"#E5ECF6\",\"width\":0.5},\"pattern\":{\"fillmode\":\"overlay\",\"size\":10,\"solidity\":0.2}},\"type\":\"bar\"}],\"scattergeo\":[{\"type\":\"scattergeo\",\"marker\":{\"colorbar\":{\"outlinewidth\":0,\"ticks\":\"\"}}}],\"scatterpolar\":[{\"type\":\"scatterpolar\",\"marker\":{\"colorbar\":{\"outlinewidth\":0,\"ticks\":\"\"}}}],\"histogram\":[{\"marker\":{\"pattern\":{\"fillmode\":\"overlay\",\"size\":10,\"solidity\":0.2}},\"type\":\"histogram\"}],\"scattergl\":[{\"type\":\"scattergl\",\"marker\":{\"colorbar\":{\"outlinewidth\":0,\"ticks\":\"\"}}}],\"scatter3d\":[{\"type\":\"scatter3d\",\"line\":{\"colorbar\":{\"outlinewidth\":0,\"ticks\":\"\"}},\"marker\":{\"colorbar\":{\"outlinewidth\":0,\"ticks\":\"\"}}}],\"scattermapbox\":[{\"type\":\"scattermapbox\",\"marker\":{\"colorbar\":{\"outlinewidth\":0,\"ticks\":\"\"}}}],\"scatterternary\":[{\"type\":\"scatterternary\",\"marker\":{\"colorbar\":{\"outlinewidth\":0,\"ticks\":\"\"}}}],\"scattercarpet\":[{\"type\":\"scattercarpet\",\"marker\":{\"colorbar\":{\"outlinewidth\":0,\"ticks\":\"\"}}}],\"carpet\":[{\"aaxis\":{\"endlinecolor\":\"#2a3f5f\",\"gridcolor\":\"white\",\"linecolor\":\"white\",\"minorgridcolor\":\"white\",\"startlinecolor\":\"#2a3f5f\"},\"baxis\":{\"endlinecolor\":\"#2a3f5f\",\"gridcolor\":\"white\",\"linecolor\":\"white\",\"minorgridcolor\":\"white\",\"startlinecolor\":\"#2a3f5f\"},\"type\":\"carpet\"}],\"table\":[{\"cells\":{\"fill\":{\"color\":\"#EBF0F8\"},\"line\":{\"color\":\"white\"}},\"header\":{\"fill\":{\"color\":\"#C8D4E3\"},\"line\":{\"color\":\"white\"}},\"type\":\"table\"}],\"barpolar\":[{\"marker\":{\"line\":{\"color\":\"#E5ECF6\",\"width\":0.5},\"pattern\":{\"fillmode\":\"overlay\",\"size\":10,\"solidity\":0.2}},\"type\":\"barpolar\"}],\"pie\":[{\"automargin\":true,\"type\":\"pie\"}]},\"layout\":{\"autotypenumbers\":\"strict\",\"colorway\":[\"#636efa\",\"#EF553B\",\"#00cc96\",\"#ab63fa\",\"#FFA15A\",\"#19d3f3\",\"#FF6692\",\"#B6E880\",\"#FF97FF\",\"#FECB52\"],\"font\":{\"color\":\"#2a3f5f\"},\"hovermode\":\"closest\",\"hoverlabel\":{\"align\":\"left\"},\"paper_bgcolor\":\"white\",\"plot_bgcolor\":\"#E5ECF6\",\"polar\":{\"bgcolor\":\"#E5ECF6\",\"angularaxis\":{\"gridcolor\":\"white\",\"linecolor\":\"white\",\"ticks\":\"\"},\"radialaxis\":{\"gridcolor\":\"white\",\"linecolor\":\"white\",\"ticks\":\"\"}},\"ternary\":{\"bgcolor\":\"#E5ECF6\",\"aaxis\":{\"gridcolor\":\"white\",\"linecolor\":\"white\",\"ticks\":\"\"},\"baxis\":{\"gridcolor\":\"white\",\"linecolor\":\"white\",\"ticks\":\"\"},\"caxis\":{\"gridcolor\":\"white\",\"linecolor\":\"white\",\"ticks\":\"\"}},\"coloraxis\":{\"colorbar\":{\"outlinewidth\":0,\"ticks\":\"\"}},\"colorscale\":{\"sequential\":[[0.0,\"#0d0887\"],[0.1111111111111111,\"#46039f\"],[0.2222222222222222,\"#7201a8\"],[0.3333333333333333,\"#9c179e\"],[0.4444444444444444,\"#bd3786\"],[0.5555555555555556,\"#d8576b\"],[0.6666666666666666,\"#ed7953\"],[0.7777777777777778,\"#fb9f3a\"],[0.8888888888888888,\"#fdca26\"],[1.0,\"#f0f921\"]],\"sequentialminus\":[[0.0,\"#0d0887\"],[0.1111111111111111,\"#46039f\"],[0.2222222222222222,\"#7201a8\"],[0.3333333333333333,\"#9c179e\"],[0.4444444444444444,\"#bd3786\"],[0.5555555555555556,\"#d8576b\"],[0.6666666666666666,\"#ed7953\"],[0.7777777777777778,\"#fb9f3a\"],[0.8888888888888888,\"#fdca26\"],[1.0,\"#f0f921\"]],\"diverging\":[[0,\"#8e0152\"],[0.1,\"#c51b7d\"],[0.2,\"#de77ae\"],[0.3,\"#f1b6da\"],[0.4,\"#fde0ef\"],[0.5,\"#f7f7f7\"],[0.6,\"#e6f5d0\"],[0.7,\"#b8e186\"],[0.8,\"#7fbc41\"],[0.9,\"#4d9221\"],[1,\"#276419\"]]},\"xaxis\":{\"gridcolor\":\"white\",\"linecolor\":\"white\",\"ticks\":\"\",\"title\":{\"standoff\":15},\"zerolinecolor\":\"white\",\"automargin\":true,\"zerolinewidth\":2},\"yaxis\":{\"gridcolor\":\"white\",\"linecolor\":\"white\",\"ticks\":\"\",\"title\":{\"standoff\":15},\"zerolinecolor\":\"white\",\"automargin\":true,\"zerolinewidth\":2},\"scene\":{\"xaxis\":{\"backgroundcolor\":\"#E5ECF6\",\"gridcolor\":\"white\",\"linecolor\":\"white\",\"showbackground\":true,\"ticks\":\"\",\"zerolinecolor\":\"white\",\"gridwidth\":2},\"yaxis\":{\"backgroundcolor\":\"#E5ECF6\",\"gridcolor\":\"white\",\"linecolor\":\"white\",\"showbackground\":true,\"ticks\":\"\",\"zerolinecolor\":\"white\",\"gridwidth\":2},\"zaxis\":{\"backgroundcolor\":\"#E5ECF6\",\"gridcolor\":\"white\",\"linecolor\":\"white\",\"showbackground\":true,\"ticks\":\"\",\"zerolinecolor\":\"white\",\"gridwidth\":2}},\"shapedefaults\":{\"line\":{\"color\":\"#2a3f5f\"}},\"annotationdefaults\":{\"arrowcolor\":\"#2a3f5f\",\"arrowhead\":0,\"arrowwidth\":1},\"geo\":{\"bgcolor\":\"white\",\"landcolor\":\"#E5ECF6\",\"subunitcolor\":\"white\",\"showland\":true,\"showlakes\":true,\"lakecolor\":\"white\"},\"title\":{\"x\":0.05},\"mapbox\":{\"style\":\"light\"}}}},                        {\"responsive\": true}                    ).then(function(){\n                            \nvar gd = document.getElementById('c0171432-6740-4522-93ba-27a660a81a4d');\nvar x = new MutationObserver(function (mutations, observer) {{\n        var display = window.getComputedStyle(gd).display;\n        if (!display || display === 'none') {{\n            console.log([gd, 'removed!']);\n            Plotly.purge(gd);\n            observer.disconnect();\n        }}\n}});\n\n// Listen for the removal of the full notebook cells\nvar notebookContainer = gd.closest('#notebook-container');\nif (notebookContainer) {{\n    x.observe(notebookContainer, {childList: true});\n}}\n\n// Listen for the clearing of the current output cell\nvar outputEl = gd.closest('.output');\nif (outputEl) {{\n    x.observe(outputEl, {childList: true});\n}}\n\n                        })                };                });            </script>        </div>"
          },
          "metadata": {}
        }
      ],
      "execution_count": 225,
      "metadata": {
        "execution": {
          "iopub.status.busy": "2023-11-26T18:43:33.888971Z",
          "iopub.execute_input": "2023-11-26T18:43:33.889354Z",
          "iopub.status.idle": "2023-11-26T18:43:34.279358Z",
          "shell.execute_reply.started": "2023-11-26T18:43:33.889322Z",
          "shell.execute_reply": "2023-11-26T18:43:34.278178Z"
        },
        "trusted": true,
        "noteable": {}
      },
      "id": "2cbae1d6"
    },
    {
      "cell_type": "markdown",
      "source": [
        "# 6. Conclusion"
      ],
      "metadata": {},
      "id": "9c5284cc"
    },
    {
      "cell_type": "code",
      "source": [
        "logged_model = 'runs:/fb9d6131cbd54adca3a90b3b3f174e1e/sklearn-model' # Identifiction of best Mlflow with mlflow UI\n",
        "\n",
        "# Load model as a PyFuncModel.\n",
        "loaded_model = mlflow.pyfunc.load_model(logged_model)\n",
        "\n",
        "# Predict on a Pandas DataFrame.\n",
        "import pandas as pd\n",
        "predictions = loaded_model.predict(X_val)\n",
        "print(\"Best RMSE obtained from all trials : \", mean_squared_error(y_val, predictions))"
      ],
      "outputs": [
        {
          "output_type": "display_data",
          "data": {
            "application/vnd.jupyter.widget-view+json": {
              "version_major": 2,
              "version_minor": 0,
              "model_id": "d5722ce9d9bd4a07984d3d2698c61d44"
            }
          },
          "metadata": {}
        },
        {
          "output_type": "stream",
          "name": "stdout",
          "text": [
            "Best RMSE obtained from all trials :  44.48718451296336\n"
          ]
        }
      ],
      "execution_count": 226,
      "metadata": {
        "execution": {
          "iopub.status.busy": "2023-11-26T18:43:36.375535Z",
          "iopub.execute_input": "2023-11-26T18:43:36.376482Z",
          "iopub.status.idle": "2023-11-26T18:43:39.246295Z",
          "shell.execute_reply.started": "2023-11-26T18:43:36.376442Z",
          "shell.execute_reply": "2023-11-26T18:43:39.245109Z"
        },
        "trusted": true,
        "noteable": {}
      },
      "id": "1beecffd"
    },
    {
      "cell_type": "code",
      "source": [
        "with open(\"my_object.pickle\", \"wb\") as f:\n",
        "    pickle.dump(loaded_model, f)"
      ],
      "outputs": [],
      "execution_count": 227,
      "metadata": {
        "execution": {
          "iopub.status.busy": "2023-11-26T18:43:39.248073Z",
          "iopub.execute_input": "2023-11-26T18:43:39.248416Z",
          "iopub.status.idle": "2023-11-26T18:43:39.347870Z",
          "shell.execute_reply.started": "2023-11-26T18:43:39.248386Z",
          "shell.execute_reply": "2023-11-26T18:43:39.346694Z"
        },
        "trusted": true
      },
      "id": "586e787b"
    },
    {
      "cell_type": "code",
      "source": [
        "with open(\"my_object.pickle\", \"rb\") as f:\n",
        "    loaded_object = pickle.load(f)\n",
        "    \n",
        "# Predict on a Pandas DataFrame.\n",
        "import pandas as pd\n",
        "predictions = loaded_model.predict(X_val)\n",
        "print(mean_squared_error(y_val, predictions))   \n",
        "\n",
        "print(\"The best model is saved !\")\n",
        "\n",
        "px.scatter(\n",
        "           y_val, \n",
        "           predictions, \n",
        "           labels = {\n",
        "               \"x\" : \"Target variable of validation dataset (x) \", \n",
        "               \"index\": \"Predictions from best model (y) \"}\n",
        "           , title = \"Comparison between predictions values (x) and real values (y)\")"
      ],
      "outputs": [
        {
          "output_type": "stream",
          "name": "stdout",
          "text": [
            "44.48718451296336\n",
            "The best model is saved !\n"
          ]
        },
        {
          "output_type": "display_data",
          "data": {
            "text/html": "<div>                            <div id=\"59bf243f-c434-4ac7-9e40-fe98b5344f8e\" class=\"plotly-graph-div\" style=\"height:525px; width:100%;\"></div>            <script type=\"text/javascript\">                require([\"plotly\"], function(Plotly) {                    window.PLOTLYENV=window.PLOTLYENV || {};                                    if (document.getElementById(\"59bf243f-c434-4ac7-9e40-fe98b5344f8e\")) {                    Plotly.newPlot(                        \"59bf243f-c434-4ac7-9e40-fe98b5344f8e\",                        [{\"hovertemplate\":\"Target variable of validation dataset (x) =%{x}\\u003cbr\\u003ePredictions from best model (y) =%{y}\\u003cextra\\u003e\\u003c\\u002fextra\\u003e\",\"legendgroup\":\"\",\"marker\":{\"color\":\"#636efa\",\"symbol\":\"circle\"},\"mode\":\"markers\",\"name\":\"\",\"orientation\":\"h\",\"showlegend\":false,\"x\":[0.8885461663344785,-1.5283211277021767,-2.8684588578694084,-0.12936532103321835,-1.2362153544215317,0.1091645731935857,-2.7721587305200264,-0.6763775466941563,-1.8233852736769667,-0.8866549459106488,-1.8713086361031026,1.9397809789690694,-1.0411900380778927,-0.0143419663963339,4.81424058585335,5.513913233805276,1.430811909587621,-0.6479830351546377,-0.15363401471935867,-0.7912588273768594,3.3890968682657334,-3.8308834179266955,4.101544567193584,0.6510608921672397,-10.83923099250862,1.1399992629346962,-2.791002848522339,-1.3957871704352849,-0.022119263736540627,-2.1106366238029697,-0.898700798923259,1.4709655565062973,-2.3960493779610377,0.20051191948453623,-0.835678960481102,0.6151192278694142,-0.7833518301718213,-1.1434785526849962,-1.4778824893699893,1.824332281294394,1.310089649507441,2.7483620792554477,-11.078146618155797,-3.6955378001283,-8.953138677617408,1.1320697125108845,-2.831697193333334,-2.20912288909966,-2.342117054442129,-3.9308505304238186,2.597853111931268,1.6396049595532682,1.2637291024925508,1.9851439462772138,-0.04600138402061858,-0.8232111826116848,2.1732850623436413,-0.5268764136197001,-0.018411201363115588,-0.30238878486827003,-0.032012421892325615,-13.178332921695258,-4.125586767986253,-0.43368556564719096,3.1028293404352874,-1.276992275660941,2.932778606208485,1.8540492771546373,-1.295304501638021,0.10570436548682724,-6.8712173667583025,3.992028258224487,-0.14724325961970136,-7.382667514632248,-1.353188607074453,-5.737976080778929,-28.688910075360738,3.8459012509965524,-10.688141586471978,4.498555094123675,0.1836232450973657,0.4276957472668982,-6.543499664345898,0.18116123506987397,-0.004399698934708165,-0.14954689624513098,-0.4376196408865983,2.7959753471363125,-3.284467862096239,4.8162355563688015,2.2393984714432955,-0.8584277280274861,1.0620072610996525,-1.2575528438510897,-4.760500102313855,-14.1182646790606,-1.6369920499564627,-9.358075326804206,-1.3176368111798495,0.5261581825658653,2.3379017214249846,-2.611784043310424,-1.4521568855990834,0.8971352357525749,0.41557610633447933,-1.2401787461970208,-2.9639108916151455,-0.942507841441015,-4.285754184700983,0.5449311609347075,1.6388669274203893,-5.96840763986254,1.0246898740274866,-3.634921246632307,2.182231880728525,-0.9996347627651713,-2.7744548826391724,-10.916449410332183,-8.547372223402053,-1.3796966438350597,-5.656304703928986,-4.656006330751467,-0.8027489421534939,4.134770119599057,-0.3255062526575042,-0.3249320879381464,-3.0855098894845363,-1.5852876026689653,-0.5282466927422681,3.5597429660755915,-1.5131174975761865,-2.5817495929209615,0.048787054011454584,-1.0607824250950761,1.3958731845429513,-7.327207251225686,-8.717421072600214,-7.6813960666781185,-0.8199502957731976,0.37142909441007904,-1.4230933288316143,-2.5949629735165933,0.10297814163802922,0.6316112106025212,-0.516433627835054,3.434344527193597,-5.95897482870562,1.472557676082473,-3.686527486116834,-0.6415398865979379],\"xaxis\":\"x\",\"y\":[6099,5805,6112,5889,5838,6132,6115,5858,5799,6190,5739,5928,6144,5817,6109,6126,6237,5760,6054,6147,6232,6233,6018,6094,5808,6203,6239,5945,5835,6072,6217,6074,6179,5907,5732,6071,6148,5801,5943,5794,6122,5827,6227,5919,5764,5809,5730,5741,6154,5752,5804,5916,5865,6149,5927,5786,5882,5748,5938,5810,6236,5998,6061,6225,5811,5770,6191,5777,5973,6129,6090,6079,6015,6028,6055,6042,6004,5800,6195,6207,5888,5814,6219,5906,6059,5824,5914,6153,6050,6016,6119,6214,6100,6062,6170,6085,5820,5807,6177,5745,5984,6172,5749,6060,6070,5787,6039,5964,6069,5866,5871,6162,6073,5755,6206,6019,5982,5972,5851,5773,5955,5910,6058,5887,5966,5962,6156,5937,5860,6067,5761,5847,6212,6008,5874,5788,5926,5754,5747,6001,5797,5942,6221,5828,5988,6002,5753,5957,5997,6165],\"yaxis\":\"y\",\"type\":\"scatter\"}],                        {\"template\":{\"data\":{\"histogram2dcontour\":[{\"type\":\"histogram2dcontour\",\"colorbar\":{\"outlinewidth\":0,\"ticks\":\"\"},\"colorscale\":[[0.0,\"#0d0887\"],[0.1111111111111111,\"#46039f\"],[0.2222222222222222,\"#7201a8\"],[0.3333333333333333,\"#9c179e\"],[0.4444444444444444,\"#bd3786\"],[0.5555555555555556,\"#d8576b\"],[0.6666666666666666,\"#ed7953\"],[0.7777777777777778,\"#fb9f3a\"],[0.8888888888888888,\"#fdca26\"],[1.0,\"#f0f921\"]]}],\"choropleth\":[{\"type\":\"choropleth\",\"colorbar\":{\"outlinewidth\":0,\"ticks\":\"\"}}],\"histogram2d\":[{\"type\":\"histogram2d\",\"colorbar\":{\"outlinewidth\":0,\"ticks\":\"\"},\"colorscale\":[[0.0,\"#0d0887\"],[0.1111111111111111,\"#46039f\"],[0.2222222222222222,\"#7201a8\"],[0.3333333333333333,\"#9c179e\"],[0.4444444444444444,\"#bd3786\"],[0.5555555555555556,\"#d8576b\"],[0.6666666666666666,\"#ed7953\"],[0.7777777777777778,\"#fb9f3a\"],[0.8888888888888888,\"#fdca26\"],[1.0,\"#f0f921\"]]}],\"heatmap\":[{\"type\":\"heatmap\",\"colorbar\":{\"outlinewidth\":0,\"ticks\":\"\"},\"colorscale\":[[0.0,\"#0d0887\"],[0.1111111111111111,\"#46039f\"],[0.2222222222222222,\"#7201a8\"],[0.3333333333333333,\"#9c179e\"],[0.4444444444444444,\"#bd3786\"],[0.5555555555555556,\"#d8576b\"],[0.6666666666666666,\"#ed7953\"],[0.7777777777777778,\"#fb9f3a\"],[0.8888888888888888,\"#fdca26\"],[1.0,\"#f0f921\"]]}],\"heatmapgl\":[{\"type\":\"heatmapgl\",\"colorbar\":{\"outlinewidth\":0,\"ticks\":\"\"},\"colorscale\":[[0.0,\"#0d0887\"],[0.1111111111111111,\"#46039f\"],[0.2222222222222222,\"#7201a8\"],[0.3333333333333333,\"#9c179e\"],[0.4444444444444444,\"#bd3786\"],[0.5555555555555556,\"#d8576b\"],[0.6666666666666666,\"#ed7953\"],[0.7777777777777778,\"#fb9f3a\"],[0.8888888888888888,\"#fdca26\"],[1.0,\"#f0f921\"]]}],\"contourcarpet\":[{\"type\":\"contourcarpet\",\"colorbar\":{\"outlinewidth\":0,\"ticks\":\"\"}}],\"contour\":[{\"type\":\"contour\",\"colorbar\":{\"outlinewidth\":0,\"ticks\":\"\"},\"colorscale\":[[0.0,\"#0d0887\"],[0.1111111111111111,\"#46039f\"],[0.2222222222222222,\"#7201a8\"],[0.3333333333333333,\"#9c179e\"],[0.4444444444444444,\"#bd3786\"],[0.5555555555555556,\"#d8576b\"],[0.6666666666666666,\"#ed7953\"],[0.7777777777777778,\"#fb9f3a\"],[0.8888888888888888,\"#fdca26\"],[1.0,\"#f0f921\"]]}],\"surface\":[{\"type\":\"surface\",\"colorbar\":{\"outlinewidth\":0,\"ticks\":\"\"},\"colorscale\":[[0.0,\"#0d0887\"],[0.1111111111111111,\"#46039f\"],[0.2222222222222222,\"#7201a8\"],[0.3333333333333333,\"#9c179e\"],[0.4444444444444444,\"#bd3786\"],[0.5555555555555556,\"#d8576b\"],[0.6666666666666666,\"#ed7953\"],[0.7777777777777778,\"#fb9f3a\"],[0.8888888888888888,\"#fdca26\"],[1.0,\"#f0f921\"]]}],\"mesh3d\":[{\"type\":\"mesh3d\",\"colorbar\":{\"outlinewidth\":0,\"ticks\":\"\"}}],\"scatter\":[{\"fillpattern\":{\"fillmode\":\"overlay\",\"size\":10,\"solidity\":0.2},\"type\":\"scatter\"}],\"parcoords\":[{\"type\":\"parcoords\",\"line\":{\"colorbar\":{\"outlinewidth\":0,\"ticks\":\"\"}}}],\"scatterpolargl\":[{\"type\":\"scatterpolargl\",\"marker\":{\"colorbar\":{\"outlinewidth\":0,\"ticks\":\"\"}}}],\"bar\":[{\"error_x\":{\"color\":\"#2a3f5f\"},\"error_y\":{\"color\":\"#2a3f5f\"},\"marker\":{\"line\":{\"color\":\"#E5ECF6\",\"width\":0.5},\"pattern\":{\"fillmode\":\"overlay\",\"size\":10,\"solidity\":0.2}},\"type\":\"bar\"}],\"scattergeo\":[{\"type\":\"scattergeo\",\"marker\":{\"colorbar\":{\"outlinewidth\":0,\"ticks\":\"\"}}}],\"scatterpolar\":[{\"type\":\"scatterpolar\",\"marker\":{\"colorbar\":{\"outlinewidth\":0,\"ticks\":\"\"}}}],\"histogram\":[{\"marker\":{\"pattern\":{\"fillmode\":\"overlay\",\"size\":10,\"solidity\":0.2}},\"type\":\"histogram\"}],\"scattergl\":[{\"type\":\"scattergl\",\"marker\":{\"colorbar\":{\"outlinewidth\":0,\"ticks\":\"\"}}}],\"scatter3d\":[{\"type\":\"scatter3d\",\"line\":{\"colorbar\":{\"outlinewidth\":0,\"ticks\":\"\"}},\"marker\":{\"colorbar\":{\"outlinewidth\":0,\"ticks\":\"\"}}}],\"scattermapbox\":[{\"type\":\"scattermapbox\",\"marker\":{\"colorbar\":{\"outlinewidth\":0,\"ticks\":\"\"}}}],\"scatterternary\":[{\"type\":\"scatterternary\",\"marker\":{\"colorbar\":{\"outlinewidth\":0,\"ticks\":\"\"}}}],\"scattercarpet\":[{\"type\":\"scattercarpet\",\"marker\":{\"colorbar\":{\"outlinewidth\":0,\"ticks\":\"\"}}}],\"carpet\":[{\"aaxis\":{\"endlinecolor\":\"#2a3f5f\",\"gridcolor\":\"white\",\"linecolor\":\"white\",\"minorgridcolor\":\"white\",\"startlinecolor\":\"#2a3f5f\"},\"baxis\":{\"endlinecolor\":\"#2a3f5f\",\"gridcolor\":\"white\",\"linecolor\":\"white\",\"minorgridcolor\":\"white\",\"startlinecolor\":\"#2a3f5f\"},\"type\":\"carpet\"}],\"table\":[{\"cells\":{\"fill\":{\"color\":\"#EBF0F8\"},\"line\":{\"color\":\"white\"}},\"header\":{\"fill\":{\"color\":\"#C8D4E3\"},\"line\":{\"color\":\"white\"}},\"type\":\"table\"}],\"barpolar\":[{\"marker\":{\"line\":{\"color\":\"#E5ECF6\",\"width\":0.5},\"pattern\":{\"fillmode\":\"overlay\",\"size\":10,\"solidity\":0.2}},\"type\":\"barpolar\"}],\"pie\":[{\"automargin\":true,\"type\":\"pie\"}]},\"layout\":{\"autotypenumbers\":\"strict\",\"colorway\":[\"#636efa\",\"#EF553B\",\"#00cc96\",\"#ab63fa\",\"#FFA15A\",\"#19d3f3\",\"#FF6692\",\"#B6E880\",\"#FF97FF\",\"#FECB52\"],\"font\":{\"color\":\"#2a3f5f\"},\"hovermode\":\"closest\",\"hoverlabel\":{\"align\":\"left\"},\"paper_bgcolor\":\"white\",\"plot_bgcolor\":\"#E5ECF6\",\"polar\":{\"bgcolor\":\"#E5ECF6\",\"angularaxis\":{\"gridcolor\":\"white\",\"linecolor\":\"white\",\"ticks\":\"\"},\"radialaxis\":{\"gridcolor\":\"white\",\"linecolor\":\"white\",\"ticks\":\"\"}},\"ternary\":{\"bgcolor\":\"#E5ECF6\",\"aaxis\":{\"gridcolor\":\"white\",\"linecolor\":\"white\",\"ticks\":\"\"},\"baxis\":{\"gridcolor\":\"white\",\"linecolor\":\"white\",\"ticks\":\"\"},\"caxis\":{\"gridcolor\":\"white\",\"linecolor\":\"white\",\"ticks\":\"\"}},\"coloraxis\":{\"colorbar\":{\"outlinewidth\":0,\"ticks\":\"\"}},\"colorscale\":{\"sequential\":[[0.0,\"#0d0887\"],[0.1111111111111111,\"#46039f\"],[0.2222222222222222,\"#7201a8\"],[0.3333333333333333,\"#9c179e\"],[0.4444444444444444,\"#bd3786\"],[0.5555555555555556,\"#d8576b\"],[0.6666666666666666,\"#ed7953\"],[0.7777777777777778,\"#fb9f3a\"],[0.8888888888888888,\"#fdca26\"],[1.0,\"#f0f921\"]],\"sequentialminus\":[[0.0,\"#0d0887\"],[0.1111111111111111,\"#46039f\"],[0.2222222222222222,\"#7201a8\"],[0.3333333333333333,\"#9c179e\"],[0.4444444444444444,\"#bd3786\"],[0.5555555555555556,\"#d8576b\"],[0.6666666666666666,\"#ed7953\"],[0.7777777777777778,\"#fb9f3a\"],[0.8888888888888888,\"#fdca26\"],[1.0,\"#f0f921\"]],\"diverging\":[[0,\"#8e0152\"],[0.1,\"#c51b7d\"],[0.2,\"#de77ae\"],[0.3,\"#f1b6da\"],[0.4,\"#fde0ef\"],[0.5,\"#f7f7f7\"],[0.6,\"#e6f5d0\"],[0.7,\"#b8e186\"],[0.8,\"#7fbc41\"],[0.9,\"#4d9221\"],[1,\"#276419\"]]},\"xaxis\":{\"gridcolor\":\"white\",\"linecolor\":\"white\",\"ticks\":\"\",\"title\":{\"standoff\":15},\"zerolinecolor\":\"white\",\"automargin\":true,\"zerolinewidth\":2},\"yaxis\":{\"gridcolor\":\"white\",\"linecolor\":\"white\",\"ticks\":\"\",\"title\":{\"standoff\":15},\"zerolinecolor\":\"white\",\"automargin\":true,\"zerolinewidth\":2},\"scene\":{\"xaxis\":{\"backgroundcolor\":\"#E5ECF6\",\"gridcolor\":\"white\",\"linecolor\":\"white\",\"showbackground\":true,\"ticks\":\"\",\"zerolinecolor\":\"white\",\"gridwidth\":2},\"yaxis\":{\"backgroundcolor\":\"#E5ECF6\",\"gridcolor\":\"white\",\"linecolor\":\"white\",\"showbackground\":true,\"ticks\":\"\",\"zerolinecolor\":\"white\",\"gridwidth\":2},\"zaxis\":{\"backgroundcolor\":\"#E5ECF6\",\"gridcolor\":\"white\",\"linecolor\":\"white\",\"showbackground\":true,\"ticks\":\"\",\"zerolinecolor\":\"white\",\"gridwidth\":2}},\"shapedefaults\":{\"line\":{\"color\":\"#2a3f5f\"}},\"annotationdefaults\":{\"arrowcolor\":\"#2a3f5f\",\"arrowhead\":0,\"arrowwidth\":1},\"geo\":{\"bgcolor\":\"white\",\"landcolor\":\"#E5ECF6\",\"subunitcolor\":\"white\",\"showland\":true,\"showlakes\":true,\"lakecolor\":\"white\"},\"title\":{\"x\":0.05},\"mapbox\":{\"style\":\"light\"}}},\"xaxis\":{\"anchor\":\"y\",\"domain\":[0.0,1.0],\"title\":{\"text\":\"Target variable of validation dataset (x) \"}},\"yaxis\":{\"anchor\":\"x\",\"domain\":[0.0,1.0],\"title\":{\"text\":\"Predictions from best model (y) \"}},\"legend\":{\"tracegroupgap\":0},\"title\":{\"text\":\"Comparison between predictions values (x) and real values (y)\"}},                        {\"responsive\": true}                    ).then(function(){\n                            \nvar gd = document.getElementById('59bf243f-c434-4ac7-9e40-fe98b5344f8e');\nvar x = new MutationObserver(function (mutations, observer) {{\n        var display = window.getComputedStyle(gd).display;\n        if (!display || display === 'none') {{\n            console.log([gd, 'removed!']);\n            Plotly.purge(gd);\n            observer.disconnect();\n        }}\n}});\n\n// Listen for the removal of the full notebook cells\nvar notebookContainer = gd.closest('#notebook-container');\nif (notebookContainer) {{\n    x.observe(notebookContainer, {childList: true});\n}}\n\n// Listen for the clearing of the current output cell\nvar outputEl = gd.closest('.output');\nif (outputEl) {{\n    x.observe(outputEl, {childList: true});\n}}\n\n                        })                };                });            </script>        </div>"
          },
          "metadata": {}
        }
      ],
      "execution_count": 228,
      "metadata": {
        "execution": {
          "iopub.status.busy": "2023-11-26T18:43:39.349957Z",
          "iopub.execute_input": "2023-11-26T18:43:39.350296Z",
          "iopub.status.idle": "2023-11-26T18:43:39.554846Z",
          "shell.execute_reply.started": "2023-11-26T18:43:39.350268Z",
          "shell.execute_reply": "2023-11-26T18:43:39.553610Z"
        },
        "trusted": true,
        "noteable": {}
      },
      "id": "45f10404"
    },
    {
      "cell_type": "markdown",
      "source": [
        "# 7. Session info"
      ],
      "metadata": {
        "noteable": {
          "cell_type": "markdown"
        }
      },
      "id": "ce948d4f-77b8-4862-8ed4-503dc4fafdb4"
    },
    {
      "cell_type": "code",
      "source": [],
      "outputs": [],
      "execution_count": null,
      "metadata": {
        "noteable": {
          "cell_type": "python"
        }
      },
      "id": "c68e15a1-7063-46ee-8047-d27a5d998855"
    }
  ],
  "metadata": {
    "kernelspec": {
      "language": "python",
      "display_name": "Python 3",
      "name": "python3"
    },
    "language_info": {
      "name": "python",
      "version": "3.10.12",
      "mimetype": "text/x-python",
      "codemirror_mode": {
        "name": "ipython",
        "version": 3
      },
      "pygments_lexer": "ipython3",
      "nbconvert_exporter": "python",
      "file_extension": ".py"
    },
    "kaggle": {
      "accelerator": "none",
      "dataSources": [
        {
          "sourceId": 57891,
          "databundleVersionId": 7056235,
          "sourceType": "competition"
        }
      ],
      "dockerImageVersionId": 30587,
      "isInternetEnabled": true,
      "language": "python",
      "sourceType": "notebook",
      "isGpuEnabled": false
    },
    "selected_hardware_size": "small",
    "noteable": {
      "last_delta_id": "c1bf58d8-ece5-4492-91b5-7432f011473c"
    },
    "nteract": {
      "version": "noteable@2.9.0"
    }
  },
  "nbformat": 4,
  "nbformat_minor": 5
}